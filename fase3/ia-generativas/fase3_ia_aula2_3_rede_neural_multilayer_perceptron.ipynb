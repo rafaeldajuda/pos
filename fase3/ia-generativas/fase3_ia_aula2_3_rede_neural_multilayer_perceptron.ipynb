{
  "nbformat": 4,
  "nbformat_minor": 0,
  "metadata": {
    "colab": {
      "provenance": []
    },
    "kernelspec": {
      "name": "python3",
      "display_name": "Python 3"
    },
    "language_info": {
      "name": "python"
    },
    "widgets": {
      "application/vnd.jupyter.widget-state+json": {
        "31820027dba143cf9e9ef54e42bc8f33": {
          "model_module": "@jupyter-widgets/controls",
          "model_name": "HBoxModel",
          "model_module_version": "1.5.0",
          "state": {
            "_dom_classes": [],
            "_model_module": "@jupyter-widgets/controls",
            "_model_module_version": "1.5.0",
            "_model_name": "HBoxModel",
            "_view_count": null,
            "_view_module": "@jupyter-widgets/controls",
            "_view_module_version": "1.5.0",
            "_view_name": "HBoxView",
            "box_style": "",
            "children": [
              "IPY_MODEL_2cfdb128cf6c4c528106554302636b33",
              "IPY_MODEL_4d4851f6e30b4eefb226a08b289a8121",
              "IPY_MODEL_76a99a498b68491f8810b882d549e0c9"
            ],
            "layout": "IPY_MODEL_381be2ef2487442e9e73d0b4e9f1851a"
          }
        },
        "2cfdb128cf6c4c528106554302636b33": {
          "model_module": "@jupyter-widgets/controls",
          "model_name": "HTMLModel",
          "model_module_version": "1.5.0",
          "state": {
            "_dom_classes": [],
            "_model_module": "@jupyter-widgets/controls",
            "_model_module_version": "1.5.0",
            "_model_name": "HTMLModel",
            "_view_count": null,
            "_view_module": "@jupyter-widgets/controls",
            "_view_module_version": "1.5.0",
            "_view_name": "HTMLView",
            "description": "",
            "description_tooltip": null,
            "layout": "IPY_MODEL_09c1ebc10aae4d56a13bd3e5d277fd3e",
            "placeholder": "​",
            "style": "IPY_MODEL_5c6420438d4b4f2d9f7591d41035ea2b",
            "value": "100%"
          }
        },
        "4d4851f6e30b4eefb226a08b289a8121": {
          "model_module": "@jupyter-widgets/controls",
          "model_name": "FloatProgressModel",
          "model_module_version": "1.5.0",
          "state": {
            "_dom_classes": [],
            "_model_module": "@jupyter-widgets/controls",
            "_model_module_version": "1.5.0",
            "_model_name": "FloatProgressModel",
            "_view_count": null,
            "_view_module": "@jupyter-widgets/controls",
            "_view_module_version": "1.5.0",
            "_view_name": "ProgressView",
            "bar_style": "success",
            "description": "",
            "description_tooltip": null,
            "layout": "IPY_MODEL_783172c039fc4055a034d826fe7ec4d7",
            "max": 80,
            "min": 0,
            "orientation": "horizontal",
            "style": "IPY_MODEL_2bb35358a92542749d5ac7df47615191",
            "value": 80
          }
        },
        "76a99a498b68491f8810b882d549e0c9": {
          "model_module": "@jupyter-widgets/controls",
          "model_name": "HTMLModel",
          "model_module_version": "1.5.0",
          "state": {
            "_dom_classes": [],
            "_model_module": "@jupyter-widgets/controls",
            "_model_module_version": "1.5.0",
            "_model_name": "HTMLModel",
            "_view_count": null,
            "_view_module": "@jupyter-widgets/controls",
            "_view_module_version": "1.5.0",
            "_view_name": "HTMLView",
            "description": "",
            "description_tooltip": null,
            "layout": "IPY_MODEL_ca677d4fd4cc4c578a4d457a8c0720a2",
            "placeholder": "​",
            "style": "IPY_MODEL_e27ae67af9f9457b938a83c4a61fe186",
            "value": " 80/80 [00:12&lt;00:00,  8.88epoch/s, accuracy=0.871, loss=0.316, val_accuracy=0.906, val_loss=0.275]"
          }
        },
        "381be2ef2487442e9e73d0b4e9f1851a": {
          "model_module": "@jupyter-widgets/base",
          "model_name": "LayoutModel",
          "model_module_version": "1.2.0",
          "state": {
            "_model_module": "@jupyter-widgets/base",
            "_model_module_version": "1.2.0",
            "_model_name": "LayoutModel",
            "_view_count": null,
            "_view_module": "@jupyter-widgets/base",
            "_view_module_version": "1.2.0",
            "_view_name": "LayoutView",
            "align_content": null,
            "align_items": null,
            "align_self": null,
            "border": null,
            "bottom": null,
            "display": null,
            "flex": null,
            "flex_flow": null,
            "grid_area": null,
            "grid_auto_columns": null,
            "grid_auto_flow": null,
            "grid_auto_rows": null,
            "grid_column": null,
            "grid_gap": null,
            "grid_row": null,
            "grid_template_areas": null,
            "grid_template_columns": null,
            "grid_template_rows": null,
            "height": null,
            "justify_content": null,
            "justify_items": null,
            "left": null,
            "margin": null,
            "max_height": null,
            "max_width": null,
            "min_height": null,
            "min_width": null,
            "object_fit": null,
            "object_position": null,
            "order": null,
            "overflow": null,
            "overflow_x": null,
            "overflow_y": null,
            "padding": null,
            "right": null,
            "top": null,
            "visibility": null,
            "width": null
          }
        },
        "09c1ebc10aae4d56a13bd3e5d277fd3e": {
          "model_module": "@jupyter-widgets/base",
          "model_name": "LayoutModel",
          "model_module_version": "1.2.0",
          "state": {
            "_model_module": "@jupyter-widgets/base",
            "_model_module_version": "1.2.0",
            "_model_name": "LayoutModel",
            "_view_count": null,
            "_view_module": "@jupyter-widgets/base",
            "_view_module_version": "1.2.0",
            "_view_name": "LayoutView",
            "align_content": null,
            "align_items": null,
            "align_self": null,
            "border": null,
            "bottom": null,
            "display": null,
            "flex": null,
            "flex_flow": null,
            "grid_area": null,
            "grid_auto_columns": null,
            "grid_auto_flow": null,
            "grid_auto_rows": null,
            "grid_column": null,
            "grid_gap": null,
            "grid_row": null,
            "grid_template_areas": null,
            "grid_template_columns": null,
            "grid_template_rows": null,
            "height": null,
            "justify_content": null,
            "justify_items": null,
            "left": null,
            "margin": null,
            "max_height": null,
            "max_width": null,
            "min_height": null,
            "min_width": null,
            "object_fit": null,
            "object_position": null,
            "order": null,
            "overflow": null,
            "overflow_x": null,
            "overflow_y": null,
            "padding": null,
            "right": null,
            "top": null,
            "visibility": null,
            "width": null
          }
        },
        "5c6420438d4b4f2d9f7591d41035ea2b": {
          "model_module": "@jupyter-widgets/controls",
          "model_name": "DescriptionStyleModel",
          "model_module_version": "1.5.0",
          "state": {
            "_model_module": "@jupyter-widgets/controls",
            "_model_module_version": "1.5.0",
            "_model_name": "DescriptionStyleModel",
            "_view_count": null,
            "_view_module": "@jupyter-widgets/base",
            "_view_module_version": "1.2.0",
            "_view_name": "StyleView",
            "description_width": ""
          }
        },
        "783172c039fc4055a034d826fe7ec4d7": {
          "model_module": "@jupyter-widgets/base",
          "model_name": "LayoutModel",
          "model_module_version": "1.2.0",
          "state": {
            "_model_module": "@jupyter-widgets/base",
            "_model_module_version": "1.2.0",
            "_model_name": "LayoutModel",
            "_view_count": null,
            "_view_module": "@jupyter-widgets/base",
            "_view_module_version": "1.2.0",
            "_view_name": "LayoutView",
            "align_content": null,
            "align_items": null,
            "align_self": null,
            "border": null,
            "bottom": null,
            "display": null,
            "flex": null,
            "flex_flow": null,
            "grid_area": null,
            "grid_auto_columns": null,
            "grid_auto_flow": null,
            "grid_auto_rows": null,
            "grid_column": null,
            "grid_gap": null,
            "grid_row": null,
            "grid_template_areas": null,
            "grid_template_columns": null,
            "grid_template_rows": null,
            "height": null,
            "justify_content": null,
            "justify_items": null,
            "left": null,
            "margin": null,
            "max_height": null,
            "max_width": null,
            "min_height": null,
            "min_width": null,
            "object_fit": null,
            "object_position": null,
            "order": null,
            "overflow": null,
            "overflow_x": null,
            "overflow_y": null,
            "padding": null,
            "right": null,
            "top": null,
            "visibility": null,
            "width": null
          }
        },
        "2bb35358a92542749d5ac7df47615191": {
          "model_module": "@jupyter-widgets/controls",
          "model_name": "ProgressStyleModel",
          "model_module_version": "1.5.0",
          "state": {
            "_model_module": "@jupyter-widgets/controls",
            "_model_module_version": "1.5.0",
            "_model_name": "ProgressStyleModel",
            "_view_count": null,
            "_view_module": "@jupyter-widgets/base",
            "_view_module_version": "1.2.0",
            "_view_name": "StyleView",
            "bar_color": null,
            "description_width": ""
          }
        },
        "ca677d4fd4cc4c578a4d457a8c0720a2": {
          "model_module": "@jupyter-widgets/base",
          "model_name": "LayoutModel",
          "model_module_version": "1.2.0",
          "state": {
            "_model_module": "@jupyter-widgets/base",
            "_model_module_version": "1.2.0",
            "_model_name": "LayoutModel",
            "_view_count": null,
            "_view_module": "@jupyter-widgets/base",
            "_view_module_version": "1.2.0",
            "_view_name": "LayoutView",
            "align_content": null,
            "align_items": null,
            "align_self": null,
            "border": null,
            "bottom": null,
            "display": null,
            "flex": null,
            "flex_flow": null,
            "grid_area": null,
            "grid_auto_columns": null,
            "grid_auto_flow": null,
            "grid_auto_rows": null,
            "grid_column": null,
            "grid_gap": null,
            "grid_row": null,
            "grid_template_areas": null,
            "grid_template_columns": null,
            "grid_template_rows": null,
            "height": null,
            "justify_content": null,
            "justify_items": null,
            "left": null,
            "margin": null,
            "max_height": null,
            "max_width": null,
            "min_height": null,
            "min_width": null,
            "object_fit": null,
            "object_position": null,
            "order": null,
            "overflow": null,
            "overflow_x": null,
            "overflow_y": null,
            "padding": null,
            "right": null,
            "top": null,
            "visibility": null,
            "width": null
          }
        },
        "e27ae67af9f9457b938a83c4a61fe186": {
          "model_module": "@jupyter-widgets/controls",
          "model_name": "DescriptionStyleModel",
          "model_module_version": "1.5.0",
          "state": {
            "_model_module": "@jupyter-widgets/controls",
            "_model_module_version": "1.5.0",
            "_model_name": "DescriptionStyleModel",
            "_view_count": null,
            "_view_module": "@jupyter-widgets/base",
            "_view_module_version": "1.2.0",
            "_view_name": "StyleView",
            "description_width": ""
          }
        }
      }
    }
  },
  "cells": [
    {
      "cell_type": "markdown",
      "source": [
        "# Classificando diferentes tipos de semente de abóbora 🎃🌱\n",
        "\n",
        "As sementes de abóbora são frequentemente consumidas como confeitos em todo o mundo devido à sua quantidade adequada de proteínas, gorduras, carboidratos e teores minerais. A base de dados \"SementesAbobora.xlsx\" possui um estudo foi realizado nos dois tipos de sementes de abóbora mais importantes e de qualidade, “Ürgüp Sivrisi” e “Çerçevelik”, geralmente cultivadas nas regiões de Ürgüp e Karacaören na Turquia.\n",
        "\n",
        "Muitas espécies de sementes têm semelhanças visuais, o que torna a classificação manual difícil e sujeita a erros. Redes neurais podem ser treinadas para identificar padrões que não são facilmente perceptíveis pelo olho humano, aumentando a precisão da classificação.\n",
        "\n",
        "Imagine que foi proposto para você o desafio de criar uma inteligência para identificar os tipos de sementes para ajudar a equipe de engenheiros e engenheiras Agrícolas. Para trabalhar com a precisão dos resultados x complexidade das características de sementes, você optou em utilizar as redes neurais multilayer perceptron. Vamos para a aplicação?\n",
        "\n",
        "## Features\n",
        "\n",
        "* Perímetro\n",
        "* Maior_Eixo_Comprimento\n",
        "* Comprimento_Eixo_Menor\n",
        "* Área_Convexa\n",
        "* Equiv_Diâmetro\n",
        "* Excentricidade\n",
        "* Solidez\n",
        "* Extensão\n",
        "* Redondeza\n",
        "* Proporcao\n",
        "* Compacidade\n",
        "\n",
        "## Target\n",
        "\n",
        "Classes: ((A)Çerçevelik, (B)Ürgüp Sivrisi)\n",
        "\n",
        "Vamos colocar a mão na massa. Vamos importar a base de dados \"SementesAbobora.xlsx\" utilizando a biblioteca pandas. E analisar a dimensão dos dados."
      ],
      "metadata": {
        "id": "tZzG4UzA6bF2"
      }
    },
    {
      "cell_type": "code",
      "execution_count": 49,
      "metadata": {
        "id": "K5IxNzXF6Z1T"
      },
      "outputs": [],
      "source": [
        "import pandas as pd"
      ]
    },
    {
      "cell_type": "code",
      "source": [
        "df = pd.read_excel('SementesAbobora.xlsx')"
      ],
      "metadata": {
        "id": "18Db5eYbBNJC"
      },
      "execution_count": 50,
      "outputs": []
    },
    {
      "cell_type": "code",
      "source": [
        "df.head()"
      ],
      "metadata": {
        "colab": {
          "base_uri": "https://localhost:8080/",
          "height": 313
        },
        "id": "tEkstaayBTwG",
        "outputId": "50ba8ed0-531b-49d0-d73b-41244fb7385d"
      },
      "execution_count": 51,
      "outputs": [
        {
          "output_type": "execute_result",
          "data": {
            "text/plain": [
              "    Area  Perímetro  Maior_Eixo_Comprimento  Comprimento_Eixo_Menor  \\\n",
              "0  56276    888.242                326.1485                220.2388   \n",
              "1  76631   1068.146                417.1932                234.2289   \n",
              "2  71623   1082.987                435.8328                211.0457   \n",
              "3  66458    992.051                381.5638                222.5322   \n",
              "4  66107    998.146                383.8883                220.4545   \n",
              "\n",
              "   Área_Convexa  Equiv_Diâmetro  Excentricidade  Solidez  Extensão  Redondeza  \\\n",
              "0         56831        267.6805          0.7376   0.9902    0.7453     0.8963   \n",
              "1         77280        312.3614          0.8275   0.9916    0.7151     0.8440   \n",
              "2         72663        301.9822          0.8749   0.9857    0.7400     0.7674   \n",
              "3         67118        290.8899          0.8123   0.9902    0.7396     0.8486   \n",
              "4         67117        290.1207          0.8187   0.9850    0.6752     0.8338   \n",
              "\n",
              "   Proporcao  Compacidade            Class  \n",
              "0     1.4809       0.8207  (A) Çerçevelik   \n",
              "1     1.7811       0.7487  (A) Çerçevelik   \n",
              "2     2.0651       0.6929  (A) Çerçevelik   \n",
              "3     1.7146       0.7624  (A) Çerçevelik   \n",
              "4     1.7413       0.7557  (A) Çerçevelik   "
            ],
            "text/html": [
              "\n",
              "  <div id=\"df-3abfd13a-b0a3-4747-bfe5-4fdaeee0da89\" class=\"colab-df-container\">\n",
              "    <div>\n",
              "<style scoped>\n",
              "    .dataframe tbody tr th:only-of-type {\n",
              "        vertical-align: middle;\n",
              "    }\n",
              "\n",
              "    .dataframe tbody tr th {\n",
              "        vertical-align: top;\n",
              "    }\n",
              "\n",
              "    .dataframe thead th {\n",
              "        text-align: right;\n",
              "    }\n",
              "</style>\n",
              "<table border=\"1\" class=\"dataframe\">\n",
              "  <thead>\n",
              "    <tr style=\"text-align: right;\">\n",
              "      <th></th>\n",
              "      <th>Area</th>\n",
              "      <th>Perímetro</th>\n",
              "      <th>Maior_Eixo_Comprimento</th>\n",
              "      <th>Comprimento_Eixo_Menor</th>\n",
              "      <th>Área_Convexa</th>\n",
              "      <th>Equiv_Diâmetro</th>\n",
              "      <th>Excentricidade</th>\n",
              "      <th>Solidez</th>\n",
              "      <th>Extensão</th>\n",
              "      <th>Redondeza</th>\n",
              "      <th>Proporcao</th>\n",
              "      <th>Compacidade</th>\n",
              "      <th>Class</th>\n",
              "    </tr>\n",
              "  </thead>\n",
              "  <tbody>\n",
              "    <tr>\n",
              "      <th>0</th>\n",
              "      <td>56276</td>\n",
              "      <td>888.242</td>\n",
              "      <td>326.1485</td>\n",
              "      <td>220.2388</td>\n",
              "      <td>56831</td>\n",
              "      <td>267.6805</td>\n",
              "      <td>0.7376</td>\n",
              "      <td>0.9902</td>\n",
              "      <td>0.7453</td>\n",
              "      <td>0.8963</td>\n",
              "      <td>1.4809</td>\n",
              "      <td>0.8207</td>\n",
              "      <td>(A) Çerçevelik</td>\n",
              "    </tr>\n",
              "    <tr>\n",
              "      <th>1</th>\n",
              "      <td>76631</td>\n",
              "      <td>1068.146</td>\n",
              "      <td>417.1932</td>\n",
              "      <td>234.2289</td>\n",
              "      <td>77280</td>\n",
              "      <td>312.3614</td>\n",
              "      <td>0.8275</td>\n",
              "      <td>0.9916</td>\n",
              "      <td>0.7151</td>\n",
              "      <td>0.8440</td>\n",
              "      <td>1.7811</td>\n",
              "      <td>0.7487</td>\n",
              "      <td>(A) Çerçevelik</td>\n",
              "    </tr>\n",
              "    <tr>\n",
              "      <th>2</th>\n",
              "      <td>71623</td>\n",
              "      <td>1082.987</td>\n",
              "      <td>435.8328</td>\n",
              "      <td>211.0457</td>\n",
              "      <td>72663</td>\n",
              "      <td>301.9822</td>\n",
              "      <td>0.8749</td>\n",
              "      <td>0.9857</td>\n",
              "      <td>0.7400</td>\n",
              "      <td>0.7674</td>\n",
              "      <td>2.0651</td>\n",
              "      <td>0.6929</td>\n",
              "      <td>(A) Çerçevelik</td>\n",
              "    </tr>\n",
              "    <tr>\n",
              "      <th>3</th>\n",
              "      <td>66458</td>\n",
              "      <td>992.051</td>\n",
              "      <td>381.5638</td>\n",
              "      <td>222.5322</td>\n",
              "      <td>67118</td>\n",
              "      <td>290.8899</td>\n",
              "      <td>0.8123</td>\n",
              "      <td>0.9902</td>\n",
              "      <td>0.7396</td>\n",
              "      <td>0.8486</td>\n",
              "      <td>1.7146</td>\n",
              "      <td>0.7624</td>\n",
              "      <td>(A) Çerçevelik</td>\n",
              "    </tr>\n",
              "    <tr>\n",
              "      <th>4</th>\n",
              "      <td>66107</td>\n",
              "      <td>998.146</td>\n",
              "      <td>383.8883</td>\n",
              "      <td>220.4545</td>\n",
              "      <td>67117</td>\n",
              "      <td>290.1207</td>\n",
              "      <td>0.8187</td>\n",
              "      <td>0.9850</td>\n",
              "      <td>0.6752</td>\n",
              "      <td>0.8338</td>\n",
              "      <td>1.7413</td>\n",
              "      <td>0.7557</td>\n",
              "      <td>(A) Çerçevelik</td>\n",
              "    </tr>\n",
              "  </tbody>\n",
              "</table>\n",
              "</div>\n",
              "    <div class=\"colab-df-buttons\">\n",
              "\n",
              "  <div class=\"colab-df-container\">\n",
              "    <button class=\"colab-df-convert\" onclick=\"convertToInteractive('df-3abfd13a-b0a3-4747-bfe5-4fdaeee0da89')\"\n",
              "            title=\"Convert this dataframe to an interactive table.\"\n",
              "            style=\"display:none;\">\n",
              "\n",
              "  <svg xmlns=\"http://www.w3.org/2000/svg\" height=\"24px\" viewBox=\"0 -960 960 960\">\n",
              "    <path d=\"M120-120v-720h720v720H120Zm60-500h600v-160H180v160Zm220 220h160v-160H400v160Zm0 220h160v-160H400v160ZM180-400h160v-160H180v160Zm440 0h160v-160H620v160ZM180-180h160v-160H180v160Zm440 0h160v-160H620v160Z\"/>\n",
              "  </svg>\n",
              "    </button>\n",
              "\n",
              "  <style>\n",
              "    .colab-df-container {\n",
              "      display:flex;\n",
              "      gap: 12px;\n",
              "    }\n",
              "\n",
              "    .colab-df-convert {\n",
              "      background-color: #E8F0FE;\n",
              "      border: none;\n",
              "      border-radius: 50%;\n",
              "      cursor: pointer;\n",
              "      display: none;\n",
              "      fill: #1967D2;\n",
              "      height: 32px;\n",
              "      padding: 0 0 0 0;\n",
              "      width: 32px;\n",
              "    }\n",
              "\n",
              "    .colab-df-convert:hover {\n",
              "      background-color: #E2EBFA;\n",
              "      box-shadow: 0px 1px 2px rgba(60, 64, 67, 0.3), 0px 1px 3px 1px rgba(60, 64, 67, 0.15);\n",
              "      fill: #174EA6;\n",
              "    }\n",
              "\n",
              "    .colab-df-buttons div {\n",
              "      margin-bottom: 4px;\n",
              "    }\n",
              "\n",
              "    [theme=dark] .colab-df-convert {\n",
              "      background-color: #3B4455;\n",
              "      fill: #D2E3FC;\n",
              "    }\n",
              "\n",
              "    [theme=dark] .colab-df-convert:hover {\n",
              "      background-color: #434B5C;\n",
              "      box-shadow: 0px 1px 3px 1px rgba(0, 0, 0, 0.15);\n",
              "      filter: drop-shadow(0px 1px 2px rgba(0, 0, 0, 0.3));\n",
              "      fill: #FFFFFF;\n",
              "    }\n",
              "  </style>\n",
              "\n",
              "    <script>\n",
              "      const buttonEl =\n",
              "        document.querySelector('#df-3abfd13a-b0a3-4747-bfe5-4fdaeee0da89 button.colab-df-convert');\n",
              "      buttonEl.style.display =\n",
              "        google.colab.kernel.accessAllowed ? 'block' : 'none';\n",
              "\n",
              "      async function convertToInteractive(key) {\n",
              "        const element = document.querySelector('#df-3abfd13a-b0a3-4747-bfe5-4fdaeee0da89');\n",
              "        const dataTable =\n",
              "          await google.colab.kernel.invokeFunction('convertToInteractive',\n",
              "                                                    [key], {});\n",
              "        if (!dataTable) return;\n",
              "\n",
              "        const docLinkHtml = 'Like what you see? Visit the ' +\n",
              "          '<a target=\"_blank\" href=https://colab.research.google.com/notebooks/data_table.ipynb>data table notebook</a>'\n",
              "          + ' to learn more about interactive tables.';\n",
              "        element.innerHTML = '';\n",
              "        dataTable['output_type'] = 'display_data';\n",
              "        await google.colab.output.renderOutput(dataTable, element);\n",
              "        const docLink = document.createElement('div');\n",
              "        docLink.innerHTML = docLinkHtml;\n",
              "        element.appendChild(docLink);\n",
              "      }\n",
              "    </script>\n",
              "  </div>\n",
              "\n",
              "\n",
              "<div id=\"df-a69d5581-3e05-40f7-9a5f-b0a05846454c\">\n",
              "  <button class=\"colab-df-quickchart\" onclick=\"quickchart('df-a69d5581-3e05-40f7-9a5f-b0a05846454c')\"\n",
              "            title=\"Suggest charts\"\n",
              "            style=\"display:none;\">\n",
              "\n",
              "<svg xmlns=\"http://www.w3.org/2000/svg\" height=\"24px\"viewBox=\"0 0 24 24\"\n",
              "     width=\"24px\">\n",
              "    <g>\n",
              "        <path d=\"M19 3H5c-1.1 0-2 .9-2 2v14c0 1.1.9 2 2 2h14c1.1 0 2-.9 2-2V5c0-1.1-.9-2-2-2zM9 17H7v-7h2v7zm4 0h-2V7h2v10zm4 0h-2v-4h2v4z\"/>\n",
              "    </g>\n",
              "</svg>\n",
              "  </button>\n",
              "\n",
              "<style>\n",
              "  .colab-df-quickchart {\n",
              "      --bg-color: #E8F0FE;\n",
              "      --fill-color: #1967D2;\n",
              "      --hover-bg-color: #E2EBFA;\n",
              "      --hover-fill-color: #174EA6;\n",
              "      --disabled-fill-color: #AAA;\n",
              "      --disabled-bg-color: #DDD;\n",
              "  }\n",
              "\n",
              "  [theme=dark] .colab-df-quickchart {\n",
              "      --bg-color: #3B4455;\n",
              "      --fill-color: #D2E3FC;\n",
              "      --hover-bg-color: #434B5C;\n",
              "      --hover-fill-color: #FFFFFF;\n",
              "      --disabled-bg-color: #3B4455;\n",
              "      --disabled-fill-color: #666;\n",
              "  }\n",
              "\n",
              "  .colab-df-quickchart {\n",
              "    background-color: var(--bg-color);\n",
              "    border: none;\n",
              "    border-radius: 50%;\n",
              "    cursor: pointer;\n",
              "    display: none;\n",
              "    fill: var(--fill-color);\n",
              "    height: 32px;\n",
              "    padding: 0;\n",
              "    width: 32px;\n",
              "  }\n",
              "\n",
              "  .colab-df-quickchart:hover {\n",
              "    background-color: var(--hover-bg-color);\n",
              "    box-shadow: 0 1px 2px rgba(60, 64, 67, 0.3), 0 1px 3px 1px rgba(60, 64, 67, 0.15);\n",
              "    fill: var(--button-hover-fill-color);\n",
              "  }\n",
              "\n",
              "  .colab-df-quickchart-complete:disabled,\n",
              "  .colab-df-quickchart-complete:disabled:hover {\n",
              "    background-color: var(--disabled-bg-color);\n",
              "    fill: var(--disabled-fill-color);\n",
              "    box-shadow: none;\n",
              "  }\n",
              "\n",
              "  .colab-df-spinner {\n",
              "    border: 2px solid var(--fill-color);\n",
              "    border-color: transparent;\n",
              "    border-bottom-color: var(--fill-color);\n",
              "    animation:\n",
              "      spin 1s steps(1) infinite;\n",
              "  }\n",
              "\n",
              "  @keyframes spin {\n",
              "    0% {\n",
              "      border-color: transparent;\n",
              "      border-bottom-color: var(--fill-color);\n",
              "      border-left-color: var(--fill-color);\n",
              "    }\n",
              "    20% {\n",
              "      border-color: transparent;\n",
              "      border-left-color: var(--fill-color);\n",
              "      border-top-color: var(--fill-color);\n",
              "    }\n",
              "    30% {\n",
              "      border-color: transparent;\n",
              "      border-left-color: var(--fill-color);\n",
              "      border-top-color: var(--fill-color);\n",
              "      border-right-color: var(--fill-color);\n",
              "    }\n",
              "    40% {\n",
              "      border-color: transparent;\n",
              "      border-right-color: var(--fill-color);\n",
              "      border-top-color: var(--fill-color);\n",
              "    }\n",
              "    60% {\n",
              "      border-color: transparent;\n",
              "      border-right-color: var(--fill-color);\n",
              "    }\n",
              "    80% {\n",
              "      border-color: transparent;\n",
              "      border-right-color: var(--fill-color);\n",
              "      border-bottom-color: var(--fill-color);\n",
              "    }\n",
              "    90% {\n",
              "      border-color: transparent;\n",
              "      border-bottom-color: var(--fill-color);\n",
              "    }\n",
              "  }\n",
              "</style>\n",
              "\n",
              "  <script>\n",
              "    async function quickchart(key) {\n",
              "      const quickchartButtonEl =\n",
              "        document.querySelector('#' + key + ' button');\n",
              "      quickchartButtonEl.disabled = true;  // To prevent multiple clicks.\n",
              "      quickchartButtonEl.classList.add('colab-df-spinner');\n",
              "      try {\n",
              "        const charts = await google.colab.kernel.invokeFunction(\n",
              "            'suggestCharts', [key], {});\n",
              "      } catch (error) {\n",
              "        console.error('Error during call to suggestCharts:', error);\n",
              "      }\n",
              "      quickchartButtonEl.classList.remove('colab-df-spinner');\n",
              "      quickchartButtonEl.classList.add('colab-df-quickchart-complete');\n",
              "    }\n",
              "    (() => {\n",
              "      let quickchartButtonEl =\n",
              "        document.querySelector('#df-a69d5581-3e05-40f7-9a5f-b0a05846454c button');\n",
              "      quickchartButtonEl.style.display =\n",
              "        google.colab.kernel.accessAllowed ? 'block' : 'none';\n",
              "    })();\n",
              "  </script>\n",
              "</div>\n",
              "\n",
              "    </div>\n",
              "  </div>\n"
            ],
            "application/vnd.google.colaboratory.intrinsic+json": {
              "type": "dataframe",
              "variable_name": "df",
              "summary": "{\n  \"name\": \"df\",\n  \"rows\": 2500,\n  \"fields\": [\n    {\n      \"column\": \"Area\",\n      \"properties\": {\n        \"dtype\": \"number\",\n        \"std\": 13664,\n        \"min\": 47939,\n        \"max\": 136574,\n        \"num_unique_values\": 2424,\n        \"samples\": [\n          97164,\n          84985,\n          66954\n        ],\n        \"semantic_type\": \"\",\n        \"description\": \"\"\n      }\n    },\n    {\n      \"column\": \"Per\\u00edmetro\",\n      \"properties\": {\n        \"dtype\": \"number\",\n        \"std\": 109.25641774887875,\n        \"min\": 868.485,\n        \"max\": 1559.45,\n        \"num_unique_values\": 2490,\n        \"samples\": [\n          1130.448,\n          1205.53,\n          1195.728\n        ],\n        \"semantic_type\": \"\",\n        \"description\": \"\"\n      }\n    },\n    {\n      \"column\": \"Maior_Eixo_Comprimento\",\n      \"properties\": {\n        \"dtype\": \"number\",\n        \"std\": 56.235703949818074,\n        \"min\": 320.8446,\n        \"max\": 661.9113,\n        \"num_unique_values\": 2499,\n        \"samples\": [\n          520.3233,\n          433.7143,\n          457.649\n        ],\n        \"semantic_type\": \"\",\n        \"description\": \"\"\n      }\n    },\n    {\n      \"column\": \"Comprimento_Eixo_Menor\",\n      \"properties\": {\n        \"dtype\": \"number\",\n        \"std\": 23.297244577915166,\n        \"min\": 152.1718,\n        \"max\": 305.818,\n        \"num_unique_values\": 2497,\n        \"samples\": [\n          206.7791,\n          228.8145,\n          250.7422\n        ],\n        \"semantic_type\": \"\",\n        \"description\": \"\"\n      }\n    },\n    {\n      \"column\": \"\\u00c1rea_Convexa\",\n      \"properties\": {\n        \"dtype\": \"number\",\n        \"std\": 13764,\n        \"min\": 48366,\n        \"max\": 138384,\n        \"num_unique_values\": 2445,\n        \"samples\": [\n          61549,\n          78472,\n          72534\n        ],\n        \"semantic_type\": \"\",\n        \"description\": \"\"\n      }\n    },\n    {\n      \"column\": \"Equiv_Di\\u00e2metro\",\n      \"properties\": {\n        \"dtype\": \"number\",\n        \"std\": 26.89191972981047,\n        \"min\": 247.0584,\n        \"max\": 417.0029,\n        \"num_unique_values\": 2424,\n        \"samples\": [\n          351.7287,\n          328.9472,\n          291.9734\n        ],\n        \"semantic_type\": \"\",\n        \"description\": \"\"\n      }\n    },\n    {\n      \"column\": \"Excentricidade\",\n      \"properties\": {\n        \"dtype\": \"number\",\n        \"std\": 0.04516739852145216,\n        \"min\": 0.4921,\n        \"max\": 0.9481,\n        \"num_unique_values\": 1295,\n        \"samples\": [\n          0.9064,\n          0.853,\n          0.924\n        ],\n        \"semantic_type\": \"\",\n        \"description\": \"\"\n      }\n    },\n    {\n      \"column\": \"Solidez\",\n      \"properties\": {\n        \"dtype\": \"number\",\n        \"std\": 0.0034935923510057668,\n        \"min\": 0.9186,\n        \"max\": 0.9944,\n        \"num_unique_values\": 166,\n        \"samples\": [\n          0.9922,\n          0.9817,\n          0.9781\n        ],\n        \"semantic_type\": \"\",\n        \"description\": \"\"\n      }\n    },\n    {\n      \"column\": \"Extens\\u00e3o\",\n      \"properties\": {\n        \"dtype\": \"number\",\n        \"std\": 0.060913648032080873,\n        \"min\": 0.468,\n        \"max\": 0.8296,\n        \"num_unique_values\": 1392,\n        \"samples\": [\n          0.7511,\n          0.7276,\n          0.6111\n        ],\n        \"semantic_type\": \"\",\n        \"description\": \"\"\n      }\n    },\n    {\n      \"column\": \"Redondeza\",\n      \"properties\": {\n        \"dtype\": \"number\",\n        \"std\": 0.05592394662311274,\n        \"min\": 0.5546,\n        \"max\": 0.9396,\n        \"num_unique_values\": 1480,\n        \"samples\": [\n          0.826,\n          0.831,\n          0.8232\n        ],\n        \"semantic_type\": \"\",\n        \"description\": \"\"\n      }\n    },\n    {\n      \"column\": \"Proporcao\",\n      \"properties\": {\n        \"dtype\": \"number\",\n        \"std\": 0.31599688383092317,\n        \"min\": 1.1487,\n        \"max\": 3.1444,\n        \"num_unique_values\": 2237,\n        \"samples\": [\n          2.4209,\n          1.9456,\n          3.0017\n        ],\n        \"semantic_type\": \"\",\n        \"description\": \"\"\n      }\n    },\n    {\n      \"column\": \"Compacidade\",\n      \"properties\": {\n        \"dtype\": \"number\",\n        \"std\": 0.05306688493439441,\n        \"min\": 0.5608,\n        \"max\": 0.9049,\n        \"num_unique_values\": 1405,\n        \"samples\": [\n          0.6652,\n          0.7453,\n          0.7279\n        ],\n        \"semantic_type\": \"\",\n        \"description\": \"\"\n      }\n    },\n    {\n      \"column\": \"Class\",\n      \"properties\": {\n        \"dtype\": \"category\",\n        \"num_unique_values\": 2,\n        \"samples\": [\n          \"(B) \\u00dcrg\\u00fcp Sivrisi\",\n          \"(A) \\u00c7er\\u00e7evelik \"\n        ],\n        \"semantic_type\": \"\",\n        \"description\": \"\"\n      }\n    }\n  ]\n}"
            }
          },
          "metadata": {},
          "execution_count": 51
        }
      ]
    },
    {
      "cell_type": "code",
      "source": [
        "df.tail()"
      ],
      "metadata": {
        "colab": {
          "base_uri": "https://localhost:8080/",
          "height": 399
        },
        "id": "IW_9F1mxCqex",
        "outputId": "929c8456-2fd6-4e9e-d37a-c031b5bba9db"
      },
      "execution_count": 52,
      "outputs": [
        {
          "output_type": "execute_result",
          "data": {
            "text/plain": [
              "       Area  Perímetro  Maior_Eixo_Comprimento  Comprimento_Eixo_Menor  \\\n",
              "2495  79637   1224.710                533.1513                190.4367   \n",
              "2496  69647   1084.318                462.9416                191.8210   \n",
              "2497  87994   1210.314                507.2200                222.1872   \n",
              "2498  80011   1182.947                501.9065                204.7531   \n",
              "2499  84934   1159.933                462.8951                234.5597   \n",
              "\n",
              "      Área_Convexa  Equiv_Diâmetro  Excentricidade  Solidez  Extensão  \\\n",
              "2495         80381        318.4289          0.9340   0.9907    0.4888   \n",
              "2496         70216        297.7874          0.9101   0.9919    0.6002   \n",
              "2497         88702        334.7199          0.8990   0.9920    0.7643   \n",
              "2498         80902        319.1758          0.9130   0.9890    0.7374   \n",
              "2499         85781        328.8485          0.8621   0.9901    0.7360   \n",
              "\n",
              "      Redondeza  Proporcao  Compacidade              Class  \n",
              "2495     0.6672     2.7996       0.5973  (B) Ürgüp Sivrisi  \n",
              "2496     0.7444     2.4134       0.6433  (B) Ürgüp Sivrisi  \n",
              "2497     0.7549     2.2828       0.6599  (B) Ürgüp Sivrisi  \n",
              "2498     0.7185     2.4513       0.6359  (B) Ürgüp Sivrisi  \n",
              "2499     0.7933     1.9735       0.7104  (B) Ürgüp Sivrisi  "
            ],
            "text/html": [
              "\n",
              "  <div id=\"df-e8e5845f-7494-4291-9c2b-4e3eb7daadda\" class=\"colab-df-container\">\n",
              "    <div>\n",
              "<style scoped>\n",
              "    .dataframe tbody tr th:only-of-type {\n",
              "        vertical-align: middle;\n",
              "    }\n",
              "\n",
              "    .dataframe tbody tr th {\n",
              "        vertical-align: top;\n",
              "    }\n",
              "\n",
              "    .dataframe thead th {\n",
              "        text-align: right;\n",
              "    }\n",
              "</style>\n",
              "<table border=\"1\" class=\"dataframe\">\n",
              "  <thead>\n",
              "    <tr style=\"text-align: right;\">\n",
              "      <th></th>\n",
              "      <th>Area</th>\n",
              "      <th>Perímetro</th>\n",
              "      <th>Maior_Eixo_Comprimento</th>\n",
              "      <th>Comprimento_Eixo_Menor</th>\n",
              "      <th>Área_Convexa</th>\n",
              "      <th>Equiv_Diâmetro</th>\n",
              "      <th>Excentricidade</th>\n",
              "      <th>Solidez</th>\n",
              "      <th>Extensão</th>\n",
              "      <th>Redondeza</th>\n",
              "      <th>Proporcao</th>\n",
              "      <th>Compacidade</th>\n",
              "      <th>Class</th>\n",
              "    </tr>\n",
              "  </thead>\n",
              "  <tbody>\n",
              "    <tr>\n",
              "      <th>2495</th>\n",
              "      <td>79637</td>\n",
              "      <td>1224.710</td>\n",
              "      <td>533.1513</td>\n",
              "      <td>190.4367</td>\n",
              "      <td>80381</td>\n",
              "      <td>318.4289</td>\n",
              "      <td>0.9340</td>\n",
              "      <td>0.9907</td>\n",
              "      <td>0.4888</td>\n",
              "      <td>0.6672</td>\n",
              "      <td>2.7996</td>\n",
              "      <td>0.5973</td>\n",
              "      <td>(B) Ürgüp Sivrisi</td>\n",
              "    </tr>\n",
              "    <tr>\n",
              "      <th>2496</th>\n",
              "      <td>69647</td>\n",
              "      <td>1084.318</td>\n",
              "      <td>462.9416</td>\n",
              "      <td>191.8210</td>\n",
              "      <td>70216</td>\n",
              "      <td>297.7874</td>\n",
              "      <td>0.9101</td>\n",
              "      <td>0.9919</td>\n",
              "      <td>0.6002</td>\n",
              "      <td>0.7444</td>\n",
              "      <td>2.4134</td>\n",
              "      <td>0.6433</td>\n",
              "      <td>(B) Ürgüp Sivrisi</td>\n",
              "    </tr>\n",
              "    <tr>\n",
              "      <th>2497</th>\n",
              "      <td>87994</td>\n",
              "      <td>1210.314</td>\n",
              "      <td>507.2200</td>\n",
              "      <td>222.1872</td>\n",
              "      <td>88702</td>\n",
              "      <td>334.7199</td>\n",
              "      <td>0.8990</td>\n",
              "      <td>0.9920</td>\n",
              "      <td>0.7643</td>\n",
              "      <td>0.7549</td>\n",
              "      <td>2.2828</td>\n",
              "      <td>0.6599</td>\n",
              "      <td>(B) Ürgüp Sivrisi</td>\n",
              "    </tr>\n",
              "    <tr>\n",
              "      <th>2498</th>\n",
              "      <td>80011</td>\n",
              "      <td>1182.947</td>\n",
              "      <td>501.9065</td>\n",
              "      <td>204.7531</td>\n",
              "      <td>80902</td>\n",
              "      <td>319.1758</td>\n",
              "      <td>0.9130</td>\n",
              "      <td>0.9890</td>\n",
              "      <td>0.7374</td>\n",
              "      <td>0.7185</td>\n",
              "      <td>2.4513</td>\n",
              "      <td>0.6359</td>\n",
              "      <td>(B) Ürgüp Sivrisi</td>\n",
              "    </tr>\n",
              "    <tr>\n",
              "      <th>2499</th>\n",
              "      <td>84934</td>\n",
              "      <td>1159.933</td>\n",
              "      <td>462.8951</td>\n",
              "      <td>234.5597</td>\n",
              "      <td>85781</td>\n",
              "      <td>328.8485</td>\n",
              "      <td>0.8621</td>\n",
              "      <td>0.9901</td>\n",
              "      <td>0.7360</td>\n",
              "      <td>0.7933</td>\n",
              "      <td>1.9735</td>\n",
              "      <td>0.7104</td>\n",
              "      <td>(B) Ürgüp Sivrisi</td>\n",
              "    </tr>\n",
              "  </tbody>\n",
              "</table>\n",
              "</div>\n",
              "    <div class=\"colab-df-buttons\">\n",
              "\n",
              "  <div class=\"colab-df-container\">\n",
              "    <button class=\"colab-df-convert\" onclick=\"convertToInteractive('df-e8e5845f-7494-4291-9c2b-4e3eb7daadda')\"\n",
              "            title=\"Convert this dataframe to an interactive table.\"\n",
              "            style=\"display:none;\">\n",
              "\n",
              "  <svg xmlns=\"http://www.w3.org/2000/svg\" height=\"24px\" viewBox=\"0 -960 960 960\">\n",
              "    <path d=\"M120-120v-720h720v720H120Zm60-500h600v-160H180v160Zm220 220h160v-160H400v160Zm0 220h160v-160H400v160ZM180-400h160v-160H180v160Zm440 0h160v-160H620v160ZM180-180h160v-160H180v160Zm440 0h160v-160H620v160Z\"/>\n",
              "  </svg>\n",
              "    </button>\n",
              "\n",
              "  <style>\n",
              "    .colab-df-container {\n",
              "      display:flex;\n",
              "      gap: 12px;\n",
              "    }\n",
              "\n",
              "    .colab-df-convert {\n",
              "      background-color: #E8F0FE;\n",
              "      border: none;\n",
              "      border-radius: 50%;\n",
              "      cursor: pointer;\n",
              "      display: none;\n",
              "      fill: #1967D2;\n",
              "      height: 32px;\n",
              "      padding: 0 0 0 0;\n",
              "      width: 32px;\n",
              "    }\n",
              "\n",
              "    .colab-df-convert:hover {\n",
              "      background-color: #E2EBFA;\n",
              "      box-shadow: 0px 1px 2px rgba(60, 64, 67, 0.3), 0px 1px 3px 1px rgba(60, 64, 67, 0.15);\n",
              "      fill: #174EA6;\n",
              "    }\n",
              "\n",
              "    .colab-df-buttons div {\n",
              "      margin-bottom: 4px;\n",
              "    }\n",
              "\n",
              "    [theme=dark] .colab-df-convert {\n",
              "      background-color: #3B4455;\n",
              "      fill: #D2E3FC;\n",
              "    }\n",
              "\n",
              "    [theme=dark] .colab-df-convert:hover {\n",
              "      background-color: #434B5C;\n",
              "      box-shadow: 0px 1px 3px 1px rgba(0, 0, 0, 0.15);\n",
              "      filter: drop-shadow(0px 1px 2px rgba(0, 0, 0, 0.3));\n",
              "      fill: #FFFFFF;\n",
              "    }\n",
              "  </style>\n",
              "\n",
              "    <script>\n",
              "      const buttonEl =\n",
              "        document.querySelector('#df-e8e5845f-7494-4291-9c2b-4e3eb7daadda button.colab-df-convert');\n",
              "      buttonEl.style.display =\n",
              "        google.colab.kernel.accessAllowed ? 'block' : 'none';\n",
              "\n",
              "      async function convertToInteractive(key) {\n",
              "        const element = document.querySelector('#df-e8e5845f-7494-4291-9c2b-4e3eb7daadda');\n",
              "        const dataTable =\n",
              "          await google.colab.kernel.invokeFunction('convertToInteractive',\n",
              "                                                    [key], {});\n",
              "        if (!dataTable) return;\n",
              "\n",
              "        const docLinkHtml = 'Like what you see? Visit the ' +\n",
              "          '<a target=\"_blank\" href=https://colab.research.google.com/notebooks/data_table.ipynb>data table notebook</a>'\n",
              "          + ' to learn more about interactive tables.';\n",
              "        element.innerHTML = '';\n",
              "        dataTable['output_type'] = 'display_data';\n",
              "        await google.colab.output.renderOutput(dataTable, element);\n",
              "        const docLink = document.createElement('div');\n",
              "        docLink.innerHTML = docLinkHtml;\n",
              "        element.appendChild(docLink);\n",
              "      }\n",
              "    </script>\n",
              "  </div>\n",
              "\n",
              "\n",
              "<div id=\"df-5c99d78d-32a5-4c91-8893-63369d2343cc\">\n",
              "  <button class=\"colab-df-quickchart\" onclick=\"quickchart('df-5c99d78d-32a5-4c91-8893-63369d2343cc')\"\n",
              "            title=\"Suggest charts\"\n",
              "            style=\"display:none;\">\n",
              "\n",
              "<svg xmlns=\"http://www.w3.org/2000/svg\" height=\"24px\"viewBox=\"0 0 24 24\"\n",
              "     width=\"24px\">\n",
              "    <g>\n",
              "        <path d=\"M19 3H5c-1.1 0-2 .9-2 2v14c0 1.1.9 2 2 2h14c1.1 0 2-.9 2-2V5c0-1.1-.9-2-2-2zM9 17H7v-7h2v7zm4 0h-2V7h2v10zm4 0h-2v-4h2v4z\"/>\n",
              "    </g>\n",
              "</svg>\n",
              "  </button>\n",
              "\n",
              "<style>\n",
              "  .colab-df-quickchart {\n",
              "      --bg-color: #E8F0FE;\n",
              "      --fill-color: #1967D2;\n",
              "      --hover-bg-color: #E2EBFA;\n",
              "      --hover-fill-color: #174EA6;\n",
              "      --disabled-fill-color: #AAA;\n",
              "      --disabled-bg-color: #DDD;\n",
              "  }\n",
              "\n",
              "  [theme=dark] .colab-df-quickchart {\n",
              "      --bg-color: #3B4455;\n",
              "      --fill-color: #D2E3FC;\n",
              "      --hover-bg-color: #434B5C;\n",
              "      --hover-fill-color: #FFFFFF;\n",
              "      --disabled-bg-color: #3B4455;\n",
              "      --disabled-fill-color: #666;\n",
              "  }\n",
              "\n",
              "  .colab-df-quickchart {\n",
              "    background-color: var(--bg-color);\n",
              "    border: none;\n",
              "    border-radius: 50%;\n",
              "    cursor: pointer;\n",
              "    display: none;\n",
              "    fill: var(--fill-color);\n",
              "    height: 32px;\n",
              "    padding: 0;\n",
              "    width: 32px;\n",
              "  }\n",
              "\n",
              "  .colab-df-quickchart:hover {\n",
              "    background-color: var(--hover-bg-color);\n",
              "    box-shadow: 0 1px 2px rgba(60, 64, 67, 0.3), 0 1px 3px 1px rgba(60, 64, 67, 0.15);\n",
              "    fill: var(--button-hover-fill-color);\n",
              "  }\n",
              "\n",
              "  .colab-df-quickchart-complete:disabled,\n",
              "  .colab-df-quickchart-complete:disabled:hover {\n",
              "    background-color: var(--disabled-bg-color);\n",
              "    fill: var(--disabled-fill-color);\n",
              "    box-shadow: none;\n",
              "  }\n",
              "\n",
              "  .colab-df-spinner {\n",
              "    border: 2px solid var(--fill-color);\n",
              "    border-color: transparent;\n",
              "    border-bottom-color: var(--fill-color);\n",
              "    animation:\n",
              "      spin 1s steps(1) infinite;\n",
              "  }\n",
              "\n",
              "  @keyframes spin {\n",
              "    0% {\n",
              "      border-color: transparent;\n",
              "      border-bottom-color: var(--fill-color);\n",
              "      border-left-color: var(--fill-color);\n",
              "    }\n",
              "    20% {\n",
              "      border-color: transparent;\n",
              "      border-left-color: var(--fill-color);\n",
              "      border-top-color: var(--fill-color);\n",
              "    }\n",
              "    30% {\n",
              "      border-color: transparent;\n",
              "      border-left-color: var(--fill-color);\n",
              "      border-top-color: var(--fill-color);\n",
              "      border-right-color: var(--fill-color);\n",
              "    }\n",
              "    40% {\n",
              "      border-color: transparent;\n",
              "      border-right-color: var(--fill-color);\n",
              "      border-top-color: var(--fill-color);\n",
              "    }\n",
              "    60% {\n",
              "      border-color: transparent;\n",
              "      border-right-color: var(--fill-color);\n",
              "    }\n",
              "    80% {\n",
              "      border-color: transparent;\n",
              "      border-right-color: var(--fill-color);\n",
              "      border-bottom-color: var(--fill-color);\n",
              "    }\n",
              "    90% {\n",
              "      border-color: transparent;\n",
              "      border-bottom-color: var(--fill-color);\n",
              "    }\n",
              "  }\n",
              "</style>\n",
              "\n",
              "  <script>\n",
              "    async function quickchart(key) {\n",
              "      const quickchartButtonEl =\n",
              "        document.querySelector('#' + key + ' button');\n",
              "      quickchartButtonEl.disabled = true;  // To prevent multiple clicks.\n",
              "      quickchartButtonEl.classList.add('colab-df-spinner');\n",
              "      try {\n",
              "        const charts = await google.colab.kernel.invokeFunction(\n",
              "            'suggestCharts', [key], {});\n",
              "      } catch (error) {\n",
              "        console.error('Error during call to suggestCharts:', error);\n",
              "      }\n",
              "      quickchartButtonEl.classList.remove('colab-df-spinner');\n",
              "      quickchartButtonEl.classList.add('colab-df-quickchart-complete');\n",
              "    }\n",
              "    (() => {\n",
              "      let quickchartButtonEl =\n",
              "        document.querySelector('#df-5c99d78d-32a5-4c91-8893-63369d2343cc button');\n",
              "      quickchartButtonEl.style.display =\n",
              "        google.colab.kernel.accessAllowed ? 'block' : 'none';\n",
              "    })();\n",
              "  </script>\n",
              "</div>\n",
              "\n",
              "    </div>\n",
              "  </div>\n"
            ],
            "application/vnd.google.colaboratory.intrinsic+json": {
              "type": "dataframe",
              "summary": "{\n  \"name\": \"df\",\n  \"rows\": 5,\n  \"fields\": [\n    {\n      \"column\": \"Area\",\n      \"properties\": {\n        \"dtype\": \"number\",\n        \"std\": 6974,\n        \"min\": 69647,\n        \"max\": 87994,\n        \"num_unique_values\": 5,\n        \"samples\": [\n          69647,\n          84934,\n          87994\n        ],\n        \"semantic_type\": \"\",\n        \"description\": \"\"\n      }\n    },\n    {\n      \"column\": \"Per\\u00edmetro\",\n      \"properties\": {\n        \"dtype\": \"number\",\n        \"std\": 55.22431905691552,\n        \"min\": 1084.318,\n        \"max\": 1224.71,\n        \"num_unique_values\": 5,\n        \"samples\": [\n          1084.318,\n          1159.933,\n          1210.314\n        ],\n        \"semantic_type\": \"\",\n        \"description\": \"\"\n      }\n    },\n    {\n      \"column\": \"Maior_Eixo_Comprimento\",\n      \"properties\": {\n        \"dtype\": \"number\",\n        \"std\": 30.420114342569455,\n        \"min\": 462.8951,\n        \"max\": 533.1513,\n        \"num_unique_values\": 5,\n        \"samples\": [\n          462.9416,\n          462.8951,\n          507.22\n        ],\n        \"semantic_type\": \"\",\n        \"description\": \"\"\n      }\n    },\n    {\n      \"column\": \"Comprimento_Eixo_Menor\",\n      \"properties\": {\n        \"dtype\": \"number\",\n        \"std\": 19.265527202570915,\n        \"min\": 190.4367,\n        \"max\": 234.5597,\n        \"num_unique_values\": 5,\n        \"samples\": [\n          191.821,\n          234.5597,\n          222.1872\n        ],\n        \"semantic_type\": \"\",\n        \"description\": \"\"\n      }\n    },\n    {\n      \"column\": \"\\u00c1rea_Convexa\",\n      \"properties\": {\n        \"dtype\": \"number\",\n        \"std\": 7047,\n        \"min\": 70216,\n        \"max\": 88702,\n        \"num_unique_values\": 5,\n        \"samples\": [\n          70216,\n          85781,\n          88702\n        ],\n        \"semantic_type\": \"\",\n        \"description\": \"\"\n      }\n    },\n    {\n      \"column\": \"Equiv_Di\\u00e2metro\",\n      \"properties\": {\n        \"dtype\": \"number\",\n        \"std\": 14.065050264929738,\n        \"min\": 297.7874,\n        \"max\": 334.7199,\n        \"num_unique_values\": 5,\n        \"samples\": [\n          297.7874,\n          328.8485,\n          334.7199\n        ],\n        \"semantic_type\": \"\",\n        \"description\": \"\"\n      }\n    },\n    {\n      \"column\": \"Excentricidade\",\n      \"properties\": {\n        \"dtype\": \"number\",\n        \"std\": 0.026448875212379097,\n        \"min\": 0.8621,\n        \"max\": 0.934,\n        \"num_unique_values\": 5,\n        \"samples\": [\n          0.9101,\n          0.8621,\n          0.899\n        ],\n        \"semantic_type\": \"\",\n        \"description\": \"\"\n      }\n    },\n    {\n      \"column\": \"Solidez\",\n      \"properties\": {\n        \"dtype\": \"number\",\n        \"std\": 0.0012621410380777626,\n        \"min\": 0.989,\n        \"max\": 0.992,\n        \"num_unique_values\": 5,\n        \"samples\": [\n          0.9919,\n          0.9901,\n          0.992\n        ],\n        \"semantic_type\": \"\",\n        \"description\": \"\"\n      }\n    },\n    {\n      \"column\": \"Extens\\u00e3o\",\n      \"properties\": {\n        \"dtype\": \"number\",\n        \"std\": 0.1176734379543659,\n        \"min\": 0.4888,\n        \"max\": 0.7643,\n        \"num_unique_values\": 5,\n        \"samples\": [\n          0.6002,\n          0.736,\n          0.7643\n        ],\n        \"semantic_type\": \"\",\n        \"description\": \"\"\n      }\n    },\n    {\n      \"column\": \"Redondeza\",\n      \"properties\": {\n        \"dtype\": \"number\",\n        \"std\": 0.04677117702175133,\n        \"min\": 0.6672,\n        \"max\": 0.7933,\n        \"num_unique_values\": 5,\n        \"samples\": [\n          0.7444,\n          0.7933,\n          0.7549\n        ],\n        \"semantic_type\": \"\",\n        \"description\": \"\"\n      }\n    },\n    {\n      \"column\": \"Proporcao\",\n      \"properties\": {\n        \"dtype\": \"number\",\n        \"std\": 0.2986924120228031,\n        \"min\": 1.9735,\n        \"max\": 2.7996,\n        \"num_unique_values\": 5,\n        \"samples\": [\n          2.4134,\n          1.9735,\n          2.2828\n        ],\n        \"semantic_type\": \"\",\n        \"description\": \"\"\n      }\n    },\n    {\n      \"column\": \"Compacidade\",\n      \"properties\": {\n        \"dtype\": \"number\",\n        \"std\": 0.04112515045565183,\n        \"min\": 0.5973,\n        \"max\": 0.7104,\n        \"num_unique_values\": 5,\n        \"samples\": [\n          0.6433,\n          0.7104,\n          0.6599\n        ],\n        \"semantic_type\": \"\",\n        \"description\": \"\"\n      }\n    },\n    {\n      \"column\": \"Class\",\n      \"properties\": {\n        \"dtype\": \"category\",\n        \"num_unique_values\": 1,\n        \"samples\": [\n          \"(B) \\u00dcrg\\u00fcp Sivrisi\"\n        ],\n        \"semantic_type\": \"\",\n        \"description\": \"\"\n      }\n    }\n  ]\n}"
            }
          },
          "metadata": {},
          "execution_count": 52
        }
      ]
    },
    {
      "cell_type": "code",
      "source": [
        "df.shape"
      ],
      "metadata": {
        "colab": {
          "base_uri": "https://localhost:8080/"
        },
        "id": "qvrzuFJPBVgm",
        "outputId": "0c82159c-33fa-4be4-f4ce-b7f49edb4cb5"
      },
      "execution_count": 53,
      "outputs": [
        {
          "output_type": "execute_result",
          "data": {
            "text/plain": [
              "(2500, 13)"
            ]
          },
          "metadata": {},
          "execution_count": 53
        }
      ]
    },
    {
      "cell_type": "markdown",
      "source": [
        "Observe que essa base de dados possui os dados de classes de forma ordenada, isso pode ser um problema para o aprendizado de máquina. Vamos começar e já embaralhar com o comando shuffle."
      ],
      "metadata": {
        "id": "6glc4t2IBuDh"
      }
    },
    {
      "cell_type": "code",
      "source": [
        "from sklearn.utils import shuffle\n",
        "\n",
        "df = shuffle(df)"
      ],
      "metadata": {
        "id": "gf81Ly9BBg42"
      },
      "execution_count": 54,
      "outputs": []
    },
    {
      "cell_type": "code",
      "source": [
        "df.head()"
      ],
      "metadata": {
        "colab": {
          "base_uri": "https://localhost:8080/",
          "height": 313
        },
        "id": "JnRSwS_wCWP8",
        "outputId": "75ede7ae-eca9-44d0-dbb9-7310399b90de"
      },
      "execution_count": 55,
      "outputs": [
        {
          "output_type": "execute_result",
          "data": {
            "text/plain": [
              "       Area  Perímetro  Maior_Eixo_Comprimento  Comprimento_Eixo_Menor  \\\n",
              "527   82959   1137.980                454.3305                234.7716   \n",
              "164   70334   1024.949                395.4998                227.6117   \n",
              "783   75398   1096.776                438.0360                220.7575   \n",
              "1196  70910   1031.838                394.2224                229.9533   \n",
              "2180  84635   1124.284                432.9209                250.5192   \n",
              "\n",
              "      Área_Convexa  Equiv_Diâmetro  Excentricidade  Solidez  Extensão  \\\n",
              "527          83835        325.0026          0.8561   0.9896    0.6897   \n",
              "164          71376        299.2525          0.8178   0.9854    0.7509   \n",
              "783          76592        309.8382          0.8637   0.9844    0.7020   \n",
              "1196         71725        300.4753          0.8123   0.9886    0.7437   \n",
              "2180         85438        328.2691          0.8156   0.9906    0.7020   \n",
              "\n",
              "      Redondeza  Proporcao  Compacidade              Class  \n",
              "527      0.8050     1.9352       0.7153    (A) Çerçevelik   \n",
              "164      0.8413     1.7376       0.7566    (A) Çerçevelik   \n",
              "783      0.7877     1.9842       0.7073    (A) Çerçevelik   \n",
              "1196     0.8369     1.7144       0.7622    (A) Çerçevelik   \n",
              "2180     0.8414     1.7281       0.7583  (B) Ürgüp Sivrisi  "
            ],
            "text/html": [
              "\n",
              "  <div id=\"df-ea74fc6f-47e4-4147-86db-12f2fa2a5ae9\" class=\"colab-df-container\">\n",
              "    <div>\n",
              "<style scoped>\n",
              "    .dataframe tbody tr th:only-of-type {\n",
              "        vertical-align: middle;\n",
              "    }\n",
              "\n",
              "    .dataframe tbody tr th {\n",
              "        vertical-align: top;\n",
              "    }\n",
              "\n",
              "    .dataframe thead th {\n",
              "        text-align: right;\n",
              "    }\n",
              "</style>\n",
              "<table border=\"1\" class=\"dataframe\">\n",
              "  <thead>\n",
              "    <tr style=\"text-align: right;\">\n",
              "      <th></th>\n",
              "      <th>Area</th>\n",
              "      <th>Perímetro</th>\n",
              "      <th>Maior_Eixo_Comprimento</th>\n",
              "      <th>Comprimento_Eixo_Menor</th>\n",
              "      <th>Área_Convexa</th>\n",
              "      <th>Equiv_Diâmetro</th>\n",
              "      <th>Excentricidade</th>\n",
              "      <th>Solidez</th>\n",
              "      <th>Extensão</th>\n",
              "      <th>Redondeza</th>\n",
              "      <th>Proporcao</th>\n",
              "      <th>Compacidade</th>\n",
              "      <th>Class</th>\n",
              "    </tr>\n",
              "  </thead>\n",
              "  <tbody>\n",
              "    <tr>\n",
              "      <th>527</th>\n",
              "      <td>82959</td>\n",
              "      <td>1137.980</td>\n",
              "      <td>454.3305</td>\n",
              "      <td>234.7716</td>\n",
              "      <td>83835</td>\n",
              "      <td>325.0026</td>\n",
              "      <td>0.8561</td>\n",
              "      <td>0.9896</td>\n",
              "      <td>0.6897</td>\n",
              "      <td>0.8050</td>\n",
              "      <td>1.9352</td>\n",
              "      <td>0.7153</td>\n",
              "      <td>(A) Çerçevelik</td>\n",
              "    </tr>\n",
              "    <tr>\n",
              "      <th>164</th>\n",
              "      <td>70334</td>\n",
              "      <td>1024.949</td>\n",
              "      <td>395.4998</td>\n",
              "      <td>227.6117</td>\n",
              "      <td>71376</td>\n",
              "      <td>299.2525</td>\n",
              "      <td>0.8178</td>\n",
              "      <td>0.9854</td>\n",
              "      <td>0.7509</td>\n",
              "      <td>0.8413</td>\n",
              "      <td>1.7376</td>\n",
              "      <td>0.7566</td>\n",
              "      <td>(A) Çerçevelik</td>\n",
              "    </tr>\n",
              "    <tr>\n",
              "      <th>783</th>\n",
              "      <td>75398</td>\n",
              "      <td>1096.776</td>\n",
              "      <td>438.0360</td>\n",
              "      <td>220.7575</td>\n",
              "      <td>76592</td>\n",
              "      <td>309.8382</td>\n",
              "      <td>0.8637</td>\n",
              "      <td>0.9844</td>\n",
              "      <td>0.7020</td>\n",
              "      <td>0.7877</td>\n",
              "      <td>1.9842</td>\n",
              "      <td>0.7073</td>\n",
              "      <td>(A) Çerçevelik</td>\n",
              "    </tr>\n",
              "    <tr>\n",
              "      <th>1196</th>\n",
              "      <td>70910</td>\n",
              "      <td>1031.838</td>\n",
              "      <td>394.2224</td>\n",
              "      <td>229.9533</td>\n",
              "      <td>71725</td>\n",
              "      <td>300.4753</td>\n",
              "      <td>0.8123</td>\n",
              "      <td>0.9886</td>\n",
              "      <td>0.7437</td>\n",
              "      <td>0.8369</td>\n",
              "      <td>1.7144</td>\n",
              "      <td>0.7622</td>\n",
              "      <td>(A) Çerçevelik</td>\n",
              "    </tr>\n",
              "    <tr>\n",
              "      <th>2180</th>\n",
              "      <td>84635</td>\n",
              "      <td>1124.284</td>\n",
              "      <td>432.9209</td>\n",
              "      <td>250.5192</td>\n",
              "      <td>85438</td>\n",
              "      <td>328.2691</td>\n",
              "      <td>0.8156</td>\n",
              "      <td>0.9906</td>\n",
              "      <td>0.7020</td>\n",
              "      <td>0.8414</td>\n",
              "      <td>1.7281</td>\n",
              "      <td>0.7583</td>\n",
              "      <td>(B) Ürgüp Sivrisi</td>\n",
              "    </tr>\n",
              "  </tbody>\n",
              "</table>\n",
              "</div>\n",
              "    <div class=\"colab-df-buttons\">\n",
              "\n",
              "  <div class=\"colab-df-container\">\n",
              "    <button class=\"colab-df-convert\" onclick=\"convertToInteractive('df-ea74fc6f-47e4-4147-86db-12f2fa2a5ae9')\"\n",
              "            title=\"Convert this dataframe to an interactive table.\"\n",
              "            style=\"display:none;\">\n",
              "\n",
              "  <svg xmlns=\"http://www.w3.org/2000/svg\" height=\"24px\" viewBox=\"0 -960 960 960\">\n",
              "    <path d=\"M120-120v-720h720v720H120Zm60-500h600v-160H180v160Zm220 220h160v-160H400v160Zm0 220h160v-160H400v160ZM180-400h160v-160H180v160Zm440 0h160v-160H620v160ZM180-180h160v-160H180v160Zm440 0h160v-160H620v160Z\"/>\n",
              "  </svg>\n",
              "    </button>\n",
              "\n",
              "  <style>\n",
              "    .colab-df-container {\n",
              "      display:flex;\n",
              "      gap: 12px;\n",
              "    }\n",
              "\n",
              "    .colab-df-convert {\n",
              "      background-color: #E8F0FE;\n",
              "      border: none;\n",
              "      border-radius: 50%;\n",
              "      cursor: pointer;\n",
              "      display: none;\n",
              "      fill: #1967D2;\n",
              "      height: 32px;\n",
              "      padding: 0 0 0 0;\n",
              "      width: 32px;\n",
              "    }\n",
              "\n",
              "    .colab-df-convert:hover {\n",
              "      background-color: #E2EBFA;\n",
              "      box-shadow: 0px 1px 2px rgba(60, 64, 67, 0.3), 0px 1px 3px 1px rgba(60, 64, 67, 0.15);\n",
              "      fill: #174EA6;\n",
              "    }\n",
              "\n",
              "    .colab-df-buttons div {\n",
              "      margin-bottom: 4px;\n",
              "    }\n",
              "\n",
              "    [theme=dark] .colab-df-convert {\n",
              "      background-color: #3B4455;\n",
              "      fill: #D2E3FC;\n",
              "    }\n",
              "\n",
              "    [theme=dark] .colab-df-convert:hover {\n",
              "      background-color: #434B5C;\n",
              "      box-shadow: 0px 1px 3px 1px rgba(0, 0, 0, 0.15);\n",
              "      filter: drop-shadow(0px 1px 2px rgba(0, 0, 0, 0.3));\n",
              "      fill: #FFFFFF;\n",
              "    }\n",
              "  </style>\n",
              "\n",
              "    <script>\n",
              "      const buttonEl =\n",
              "        document.querySelector('#df-ea74fc6f-47e4-4147-86db-12f2fa2a5ae9 button.colab-df-convert');\n",
              "      buttonEl.style.display =\n",
              "        google.colab.kernel.accessAllowed ? 'block' : 'none';\n",
              "\n",
              "      async function convertToInteractive(key) {\n",
              "        const element = document.querySelector('#df-ea74fc6f-47e4-4147-86db-12f2fa2a5ae9');\n",
              "        const dataTable =\n",
              "          await google.colab.kernel.invokeFunction('convertToInteractive',\n",
              "                                                    [key], {});\n",
              "        if (!dataTable) return;\n",
              "\n",
              "        const docLinkHtml = 'Like what you see? Visit the ' +\n",
              "          '<a target=\"_blank\" href=https://colab.research.google.com/notebooks/data_table.ipynb>data table notebook</a>'\n",
              "          + ' to learn more about interactive tables.';\n",
              "        element.innerHTML = '';\n",
              "        dataTable['output_type'] = 'display_data';\n",
              "        await google.colab.output.renderOutput(dataTable, element);\n",
              "        const docLink = document.createElement('div');\n",
              "        docLink.innerHTML = docLinkHtml;\n",
              "        element.appendChild(docLink);\n",
              "      }\n",
              "    </script>\n",
              "  </div>\n",
              "\n",
              "\n",
              "<div id=\"df-f3294b19-0e04-4c31-80d4-b049838786ee\">\n",
              "  <button class=\"colab-df-quickchart\" onclick=\"quickchart('df-f3294b19-0e04-4c31-80d4-b049838786ee')\"\n",
              "            title=\"Suggest charts\"\n",
              "            style=\"display:none;\">\n",
              "\n",
              "<svg xmlns=\"http://www.w3.org/2000/svg\" height=\"24px\"viewBox=\"0 0 24 24\"\n",
              "     width=\"24px\">\n",
              "    <g>\n",
              "        <path d=\"M19 3H5c-1.1 0-2 .9-2 2v14c0 1.1.9 2 2 2h14c1.1 0 2-.9 2-2V5c0-1.1-.9-2-2-2zM9 17H7v-7h2v7zm4 0h-2V7h2v10zm4 0h-2v-4h2v4z\"/>\n",
              "    </g>\n",
              "</svg>\n",
              "  </button>\n",
              "\n",
              "<style>\n",
              "  .colab-df-quickchart {\n",
              "      --bg-color: #E8F0FE;\n",
              "      --fill-color: #1967D2;\n",
              "      --hover-bg-color: #E2EBFA;\n",
              "      --hover-fill-color: #174EA6;\n",
              "      --disabled-fill-color: #AAA;\n",
              "      --disabled-bg-color: #DDD;\n",
              "  }\n",
              "\n",
              "  [theme=dark] .colab-df-quickchart {\n",
              "      --bg-color: #3B4455;\n",
              "      --fill-color: #D2E3FC;\n",
              "      --hover-bg-color: #434B5C;\n",
              "      --hover-fill-color: #FFFFFF;\n",
              "      --disabled-bg-color: #3B4455;\n",
              "      --disabled-fill-color: #666;\n",
              "  }\n",
              "\n",
              "  .colab-df-quickchart {\n",
              "    background-color: var(--bg-color);\n",
              "    border: none;\n",
              "    border-radius: 50%;\n",
              "    cursor: pointer;\n",
              "    display: none;\n",
              "    fill: var(--fill-color);\n",
              "    height: 32px;\n",
              "    padding: 0;\n",
              "    width: 32px;\n",
              "  }\n",
              "\n",
              "  .colab-df-quickchart:hover {\n",
              "    background-color: var(--hover-bg-color);\n",
              "    box-shadow: 0 1px 2px rgba(60, 64, 67, 0.3), 0 1px 3px 1px rgba(60, 64, 67, 0.15);\n",
              "    fill: var(--button-hover-fill-color);\n",
              "  }\n",
              "\n",
              "  .colab-df-quickchart-complete:disabled,\n",
              "  .colab-df-quickchart-complete:disabled:hover {\n",
              "    background-color: var(--disabled-bg-color);\n",
              "    fill: var(--disabled-fill-color);\n",
              "    box-shadow: none;\n",
              "  }\n",
              "\n",
              "  .colab-df-spinner {\n",
              "    border: 2px solid var(--fill-color);\n",
              "    border-color: transparent;\n",
              "    border-bottom-color: var(--fill-color);\n",
              "    animation:\n",
              "      spin 1s steps(1) infinite;\n",
              "  }\n",
              "\n",
              "  @keyframes spin {\n",
              "    0% {\n",
              "      border-color: transparent;\n",
              "      border-bottom-color: var(--fill-color);\n",
              "      border-left-color: var(--fill-color);\n",
              "    }\n",
              "    20% {\n",
              "      border-color: transparent;\n",
              "      border-left-color: var(--fill-color);\n",
              "      border-top-color: var(--fill-color);\n",
              "    }\n",
              "    30% {\n",
              "      border-color: transparent;\n",
              "      border-left-color: var(--fill-color);\n",
              "      border-top-color: var(--fill-color);\n",
              "      border-right-color: var(--fill-color);\n",
              "    }\n",
              "    40% {\n",
              "      border-color: transparent;\n",
              "      border-right-color: var(--fill-color);\n",
              "      border-top-color: var(--fill-color);\n",
              "    }\n",
              "    60% {\n",
              "      border-color: transparent;\n",
              "      border-right-color: var(--fill-color);\n",
              "    }\n",
              "    80% {\n",
              "      border-color: transparent;\n",
              "      border-right-color: var(--fill-color);\n",
              "      border-bottom-color: var(--fill-color);\n",
              "    }\n",
              "    90% {\n",
              "      border-color: transparent;\n",
              "      border-bottom-color: var(--fill-color);\n",
              "    }\n",
              "  }\n",
              "</style>\n",
              "\n",
              "  <script>\n",
              "    async function quickchart(key) {\n",
              "      const quickchartButtonEl =\n",
              "        document.querySelector('#' + key + ' button');\n",
              "      quickchartButtonEl.disabled = true;  // To prevent multiple clicks.\n",
              "      quickchartButtonEl.classList.add('colab-df-spinner');\n",
              "      try {\n",
              "        const charts = await google.colab.kernel.invokeFunction(\n",
              "            'suggestCharts', [key], {});\n",
              "      } catch (error) {\n",
              "        console.error('Error during call to suggestCharts:', error);\n",
              "      }\n",
              "      quickchartButtonEl.classList.remove('colab-df-spinner');\n",
              "      quickchartButtonEl.classList.add('colab-df-quickchart-complete');\n",
              "    }\n",
              "    (() => {\n",
              "      let quickchartButtonEl =\n",
              "        document.querySelector('#df-f3294b19-0e04-4c31-80d4-b049838786ee button');\n",
              "      quickchartButtonEl.style.display =\n",
              "        google.colab.kernel.accessAllowed ? 'block' : 'none';\n",
              "    })();\n",
              "  </script>\n",
              "</div>\n",
              "\n",
              "    </div>\n",
              "  </div>\n"
            ],
            "application/vnd.google.colaboratory.intrinsic+json": {
              "type": "dataframe",
              "variable_name": "df",
              "summary": "{\n  \"name\": \"df\",\n  \"rows\": 2500,\n  \"fields\": [\n    {\n      \"column\": \"Area\",\n      \"properties\": {\n        \"dtype\": \"number\",\n        \"std\": 13664,\n        \"min\": 47939,\n        \"max\": 136574,\n        \"num_unique_values\": 2424,\n        \"samples\": [\n          85845,\n          109005,\n          78511\n        ],\n        \"semantic_type\": \"\",\n        \"description\": \"\"\n      }\n    },\n    {\n      \"column\": \"Per\\u00edmetro\",\n      \"properties\": {\n        \"dtype\": \"number\",\n        \"std\": 109.25641774887876,\n        \"min\": 868.485,\n        \"max\": 1559.45,\n        \"num_unique_values\": 2490,\n        \"samples\": [\n          964.694,\n          1030.822,\n          1056.731\n        ],\n        \"semantic_type\": \"\",\n        \"description\": \"\"\n      }\n    },\n    {\n      \"column\": \"Maior_Eixo_Comprimento\",\n      \"properties\": {\n        \"dtype\": \"number\",\n        \"std\": 56.235703949818074,\n        \"min\": 320.8446,\n        \"max\": 661.9113,\n        \"num_unique_values\": 2499,\n        \"samples\": [\n          390.9275,\n          438.2606,\n          409.1759\n        ],\n        \"semantic_type\": \"\",\n        \"description\": \"\"\n      }\n    },\n    {\n      \"column\": \"Comprimento_Eixo_Menor\",\n      \"properties\": {\n        \"dtype\": \"number\",\n        \"std\": 23.297244577915166,\n        \"min\": 152.1718,\n        \"max\": 305.818,\n        \"num_unique_values\": 2497,\n        \"samples\": [\n          196.8519,\n          244.2649,\n          272.4748\n        ],\n        \"semantic_type\": \"\",\n        \"description\": \"\"\n      }\n    },\n    {\n      \"column\": \"\\u00c1rea_Convexa\",\n      \"properties\": {\n        \"dtype\": \"number\",\n        \"std\": 13764,\n        \"min\": 48366,\n        \"max\": 138384,\n        \"num_unique_values\": 2445,\n        \"samples\": [\n          92074,\n          66107,\n          70024\n        ],\n        \"semantic_type\": \"\",\n        \"description\": \"\"\n      }\n    },\n    {\n      \"column\": \"Equiv_Di\\u00e2metro\",\n      \"properties\": {\n        \"dtype\": \"number\",\n        \"std\": 26.89191972981047,\n        \"min\": 247.0584,\n        \"max\": 417.0029,\n        \"num_unique_values\": 2424,\n        \"samples\": [\n          330.6074,\n          372.5446,\n          316.1697\n        ],\n        \"semantic_type\": \"\",\n        \"description\": \"\"\n      }\n    },\n    {\n      \"column\": \"Excentricidade\",\n      \"properties\": {\n        \"dtype\": \"number\",\n        \"std\": 0.04516739852145216,\n        \"min\": 0.4921,\n        \"max\": 0.9481,\n        \"num_unique_values\": 1295,\n        \"samples\": [\n          0.8987,\n          0.8107,\n          0.9103\n        ],\n        \"semantic_type\": \"\",\n        \"description\": \"\"\n      }\n    },\n    {\n      \"column\": \"Solidez\",\n      \"properties\": {\n        \"dtype\": \"number\",\n        \"std\": 0.0034935923510057668,\n        \"min\": 0.9186,\n        \"max\": 0.9944,\n        \"num_unique_values\": 166,\n        \"samples\": [\n          0.976,\n          0.9763,\n          0.987\n        ],\n        \"semantic_type\": \"\",\n        \"description\": \"\"\n      }\n    },\n    {\n      \"column\": \"Extens\\u00e3o\",\n      \"properties\": {\n        \"dtype\": \"number\",\n        \"std\": 0.06091364803208088,\n        \"min\": 0.468,\n        \"max\": 0.8296,\n        \"num_unique_values\": 1392,\n        \"samples\": [\n          0.7378,\n          0.6545,\n          0.5118\n        ],\n        \"semantic_type\": \"\",\n        \"description\": \"\"\n      }\n    },\n    {\n      \"column\": \"Redondeza\",\n      \"properties\": {\n        \"dtype\": \"number\",\n        \"std\": 0.05592394662311274,\n        \"min\": 0.5546,\n        \"max\": 0.9396,\n        \"num_unique_values\": 1480,\n        \"samples\": [\n          0.8273,\n          0.8815,\n          0.784\n        ],\n        \"semantic_type\": \"\",\n        \"description\": \"\"\n      }\n    },\n    {\n      \"column\": \"Proporcao\",\n      \"properties\": {\n        \"dtype\": \"number\",\n        \"std\": 0.31599688383092317,\n        \"min\": 1.1487,\n        \"max\": 3.1444,\n        \"num_unique_values\": 2237,\n        \"samples\": [\n          1.6661,\n          1.8644,\n          1.778\n        ],\n        \"semantic_type\": \"\",\n        \"description\": \"\"\n      }\n    },\n    {\n      \"column\": \"Compacidade\",\n      \"properties\": {\n        \"dtype\": \"number\",\n        \"std\": 0.05306688493439441,\n        \"min\": 0.5608,\n        \"max\": 0.9049,\n        \"num_unique_values\": 1405,\n        \"samples\": [\n          0.6861,\n          0.7732,\n          0.6443\n        ],\n        \"semantic_type\": \"\",\n        \"description\": \"\"\n      }\n    },\n    {\n      \"column\": \"Class\",\n      \"properties\": {\n        \"dtype\": \"category\",\n        \"num_unique_values\": 2,\n        \"samples\": [\n          \"(B) \\u00dcrg\\u00fcp Sivrisi\",\n          \"(A) \\u00c7er\\u00e7evelik \"\n        ],\n        \"semantic_type\": \"\",\n        \"description\": \"\"\n      }\n    }\n  ]\n}"
            }
          },
          "metadata": {},
          "execution_count": 55
        }
      ]
    },
    {
      "cell_type": "markdown",
      "source": [
        "Muito bem, agora temos os dados embaralhados. Próximo passo, vamos conhecer o equilíbrio das nossas classes (já que temos um problema de classicação a ser resolvido)."
      ],
      "metadata": {
        "id": "Dh3eB-b3C68X"
      }
    },
    {
      "cell_type": "code",
      "source": [
        "df['Class'].value_counts()"
      ],
      "metadata": {
        "colab": {
          "base_uri": "https://localhost:8080/",
          "height": 178
        },
        "id": "5W15zKssCXYb",
        "outputId": "eaaeff5d-ef68-4b2b-f663-940588766ab6"
      },
      "execution_count": 56,
      "outputs": [
        {
          "output_type": "execute_result",
          "data": {
            "text/plain": [
              "Class\n",
              "(A) Çerçevelik       1300\n",
              "(B) Ürgüp Sivrisi    1200\n",
              "Name: count, dtype: int64"
            ],
            "text/html": [
              "<div>\n",
              "<style scoped>\n",
              "    .dataframe tbody tr th:only-of-type {\n",
              "        vertical-align: middle;\n",
              "    }\n",
              "\n",
              "    .dataframe tbody tr th {\n",
              "        vertical-align: top;\n",
              "    }\n",
              "\n",
              "    .dataframe thead th {\n",
              "        text-align: right;\n",
              "    }\n",
              "</style>\n",
              "<table border=\"1\" class=\"dataframe\">\n",
              "  <thead>\n",
              "    <tr style=\"text-align: right;\">\n",
              "      <th></th>\n",
              "      <th>count</th>\n",
              "    </tr>\n",
              "    <tr>\n",
              "      <th>Class</th>\n",
              "      <th></th>\n",
              "    </tr>\n",
              "  </thead>\n",
              "  <tbody>\n",
              "    <tr>\n",
              "      <th>(A) Çerçevelik</th>\n",
              "      <td>1300</td>\n",
              "    </tr>\n",
              "    <tr>\n",
              "      <th>(B) Ürgüp Sivrisi</th>\n",
              "      <td>1200</td>\n",
              "    </tr>\n",
              "  </tbody>\n",
              "</table>\n",
              "</div><br><label><b>dtype:</b> int64</label>"
            ]
          },
          "metadata": {},
          "execution_count": 56
        }
      ]
    },
    {
      "cell_type": "code",
      "source": [
        "df['Class'].value_counts(normalize=True)"
      ],
      "metadata": {
        "colab": {
          "base_uri": "https://localhost:8080/",
          "height": 178
        },
        "id": "k96RY9vyDN-B",
        "outputId": "b23f2b24-71f6-4d5d-ab14-14e8c824af44"
      },
      "execution_count": 57,
      "outputs": [
        {
          "output_type": "execute_result",
          "data": {
            "text/plain": [
              "Class\n",
              "(A) Çerçevelik       0.52\n",
              "(B) Ürgüp Sivrisi    0.48\n",
              "Name: proportion, dtype: float64"
            ],
            "text/html": [
              "<div>\n",
              "<style scoped>\n",
              "    .dataframe tbody tr th:only-of-type {\n",
              "        vertical-align: middle;\n",
              "    }\n",
              "\n",
              "    .dataframe tbody tr th {\n",
              "        vertical-align: top;\n",
              "    }\n",
              "\n",
              "    .dataframe thead th {\n",
              "        text-align: right;\n",
              "    }\n",
              "</style>\n",
              "<table border=\"1\" class=\"dataframe\">\n",
              "  <thead>\n",
              "    <tr style=\"text-align: right;\">\n",
              "      <th></th>\n",
              "      <th>proportion</th>\n",
              "    </tr>\n",
              "    <tr>\n",
              "      <th>Class</th>\n",
              "      <th></th>\n",
              "    </tr>\n",
              "  </thead>\n",
              "  <tbody>\n",
              "    <tr>\n",
              "      <th>(A) Çerçevelik</th>\n",
              "      <td>0.52</td>\n",
              "    </tr>\n",
              "    <tr>\n",
              "      <th>(B) Ürgüp Sivrisi</th>\n",
              "      <td>0.48</td>\n",
              "    </tr>\n",
              "  </tbody>\n",
              "</table>\n",
              "</div><br><label><b>dtype:</b> float64</label>"
            ]
          },
          "metadata": {},
          "execution_count": 57
        }
      ]
    },
    {
      "cell_type": "markdown",
      "source": [
        "Base está equilibrada, ótimo! Caso não estivesse, teríamos que aplicar técnicas de reamostragem de dados ou até mesmo coletar mais dados para a criação de nossa rede neural."
      ],
      "metadata": {
        "id": "Oooi7NfUDeqs"
      }
    },
    {
      "cell_type": "markdown",
      "source": [
        "Vamos analisar os dados com uma análise exploratória?"
      ],
      "metadata": {
        "id": "ysZvNr1eD2zO"
      }
    },
    {
      "cell_type": "code",
      "source": [
        "import seaborn as sns\n",
        "import matplotlib.pyplot as plt\n",
        "import numpy as np"
      ],
      "metadata": {
        "id": "Mdl95IUSDb4h"
      },
      "execution_count": 58,
      "outputs": []
    },
    {
      "cell_type": "code",
      "source": [
        "# Selecionar apenas colunas numéricas\n",
        "numeric_df = df.select_dtypes(include=[np.number])\n",
        "\n",
        "# Calcular a matriz de correlação\n",
        "correlation_matrix = numeric_df.corr().round(2)\n",
        "fig, ax = plt.subplots(figsize=(15,10))\n",
        "sns.heatmap(data=correlation_matrix, annot=True, linewidths=.5, ax=ax)"
      ],
      "metadata": {
        "colab": {
          "base_uri": "https://localhost:8080/",
          "height": 957
        },
        "id": "U9kgkbPaEq5H",
        "outputId": "09e9c5c4-a79a-40df-9287-16fda9d47e04"
      },
      "execution_count": 59,
      "outputs": [
        {
          "output_type": "execute_result",
          "data": {
            "text/plain": [
              "<Axes: >"
            ]
          },
          "metadata": {},
          "execution_count": 59
        },
        {
          "output_type": "display_data",
          "data": {
            "text/plain": [
              "<Figure size 1500x1000 with 2 Axes>"
            ],
            "image/png": "[encoded data removed]"
          },
          "metadata": {}
        }
      ]
    },
    {
      "cell_type": "markdown",
      "source": [
        "A correlação é muito importante para entendermos as relações das variáveis (ou seja, a associação entre duas variáveis). Podemos identificar que temos variáveis altamente correlacionadas e sabemos que isso pode ser um problema para o modelo.\n",
        "\n",
        "Area, Area_convexa, Equiv_Diâmetro e Maior_Eixo_Comprimento possuem correlação mair que **0.90** quando analisadas com a variável **Perímetro**, isso se deve pelo motivo que todas essas variáveis são relacionadas ao tamanho das sementes. Já sabemos que não precisamos colocar todas no modelo."
      ],
      "metadata": {
        "id": "HrYyXsBnGxKM"
      }
    },
    {
      "cell_type": "markdown",
      "source": [
        "## Tratando a variável target"
      ],
      "metadata": {
        "id": "yB5XUABgH1TL"
      }
    },
    {
      "cell_type": "code",
      "source": [
        "# Utilizando Label Enconder\n",
        "from sklearn.preprocessing import LabelEncoder\n",
        "le = LabelEncoder()\n",
        "df.Class = le.fit_transform(df['Class'])"
      ],
      "metadata": {
        "id": "4jc1R7IpH6tR"
      },
      "execution_count": 60,
      "outputs": []
    },
    {
      "cell_type": "code",
      "source": [
        "set(df['Class'])"
      ],
      "metadata": {
        "colab": {
          "base_uri": "https://localhost:8080/"
        },
        "id": "OmthccMMISpd",
        "outputId": "9a4f9903-305a-433a-e640-38b33da5151a"
      },
      "execution_count": 61,
      "outputs": [
        {
          "output_type": "execute_result",
          "data": {
            "text/plain": [
              "{0, 1}"
            ]
          },
          "metadata": {},
          "execution_count": 61
        }
      ]
    },
    {
      "cell_type": "markdown",
      "source": [
        "## Separando os dados\n",
        "\n",
        "Como todo aprendizado de máquina, precisamos separar as bases de treino e teste! Vamos incluir todas as variáveis do modelo exceto as que estão altamente correlacionadas entre si (Area, Area_convexa, Equiv_Diâmetro e Maior_Eixo_Comprimento). Dentre as variáveis como muita correlação, vamos selecionar apenas a Area."
      ],
      "metadata": {
        "id": "hgVL7HCII1ta"
      }
    },
    {
      "cell_type": "code",
      "source": [
        "X = df[['Area', 'Perímetro', 'Comprimento_Eixo_Menor', 'Excentricidade', 'Solidez', 'Extensão', 'Redondeza', 'Proporcao', 'Compacidade']]\n",
        "y = df['Class']"
      ],
      "metadata": {
        "id": "0-xxoiOEJanK"
      },
      "execution_count": 62,
      "outputs": []
    },
    {
      "cell_type": "code",
      "source": [
        "from sklearn.model_selection import train_test_split\n",
        "\n",
        "X_train, X_test, y_train, y_test = train_test_split(X, y, test_size=0.20)"
      ],
      "metadata": {
        "id": "g66Pq-RDKBEG"
      },
      "execution_count": 63,
      "outputs": []
    },
    {
      "cell_type": "markdown",
      "source": [
        "## Pré-processamento dos dados: normalizando as escalas\n",
        "\n",
        "Apesar de deep learning não requerer distribuições normais, é comum aplicar **técnicas de pré-processamento de dados para normalizar as características**. Isso pode ajudar a acelerar a convergência do treinamento da rede neural.\n",
        "\n",
        "A convergência está relacionada com o erro, ou seja, o quanto a sua rede aprende a corrigir os erros durante o processamento."
      ],
      "metadata": {
        "id": "sAYSd7SdKWT1"
      }
    },
    {
      "cell_type": "code",
      "source": [
        "from sklearn.preprocessing import MinMaxScaler\n",
        "\n",
        "scaler = MinMaxScaler()\n",
        "scaler.fit(X_train)"
      ],
      "metadata": {
        "colab": {
          "base_uri": "https://localhost:8080/",
          "height": 74
        },
        "id": "p60v-S0ULSmm",
        "outputId": "20bcd899-bad8-4a4e-fd64-a9570b77bec8"
      },
      "execution_count": 64,
      "outputs": [
        {
          "output_type": "execute_result",
          "data": {
            "text/plain": [
              "MinMaxScaler()"
            ],
            "text/html": [
              "<style>#sk-container-id-2 {color: black;}#sk-container-id-2 pre{padding: 0;}#sk-container-id-2 div.sk-toggleable {background-color: white;}#sk-container-id-2 label.sk-toggleable__label {cursor: pointer;display: block;width: 100%;margin-bottom: 0;padding: 0.3em;box-sizing: border-box;text-align: center;}#sk-container-id-2 label.sk-toggleable__label-arrow:before {content: \"▸\";float: left;margin-right: 0.25em;color: #696969;}#sk-container-id-2 label.sk-toggleable__label-arrow:hover:before {color: black;}#sk-container-id-2 div.sk-estimator:hover label.sk-toggleable__label-arrow:before {color: black;}#sk-container-id-2 div.sk-toggleable__content {max-height: 0;max-width: 0;overflow: hidden;text-align: left;background-color: #f0f8ff;}#sk-container-id-2 div.sk-toggleable__content pre {margin: 0.2em;color: black;border-radius: 0.25em;background-color: #f0f8ff;}#sk-container-id-2 input.sk-toggleable__control:checked~div.sk-toggleable__content {max-height: 200px;max-width: 100%;overflow: auto;}#sk-container-id-2 input.sk-toggleable__control:checked~label.sk-toggleable__label-arrow:before {content: \"▾\";}#sk-container-id-2 div.sk-estimator input.sk-toggleable__control:checked~label.sk-toggleable__label {background-color: #d4ebff;}#sk-container-id-2 div.sk-label input.sk-toggleable__control:checked~label.sk-toggleable__label {background-color: #d4ebff;}#sk-container-id-2 input.sk-hidden--visually {border: 0;clip: rect(1px 1px 1px 1px);clip: rect(1px, 1px, 1px, 1px);height: 1px;margin: -1px;overflow: hidden;padding: 0;position: absolute;width: 1px;}#sk-container-id-2 div.sk-estimator {font-family: monospace;background-color: #f0f8ff;border: 1px dotted black;border-radius: 0.25em;box-sizing: border-box;margin-bottom: 0.5em;}#sk-container-id-2 div.sk-estimator:hover {background-color: #d4ebff;}#sk-container-id-2 div.sk-parallel-item::after {content: \"\";width: 100%;border-bottom: 1px solid gray;flex-grow: 1;}#sk-container-id-2 div.sk-label:hover label.sk-toggleable__label {background-color: #d4ebff;}#sk-container-id-2 div.sk-serial::before {content: \"\";position: absolute;border-left: 1px solid gray;box-sizing: border-box;top: 0;bottom: 0;left: 50%;z-index: 0;}#sk-container-id-2 div.sk-serial {display: flex;flex-direction: column;align-items: center;background-color: white;padding-right: 0.2em;padding-left: 0.2em;position: relative;}#sk-container-id-2 div.sk-item {position: relative;z-index: 1;}#sk-container-id-2 div.sk-parallel {display: flex;align-items: stretch;justify-content: center;background-color: white;position: relative;}#sk-container-id-2 div.sk-item::before, #sk-container-id-2 div.sk-parallel-item::before {content: \"\";position: absolute;border-left: 1px solid gray;box-sizing: border-box;top: 0;bottom: 0;left: 50%;z-index: -1;}#sk-container-id-2 div.sk-parallel-item {display: flex;flex-direction: column;z-index: 1;position: relative;background-color: white;}#sk-container-id-2 div.sk-parallel-item:first-child::after {align-self: flex-end;width: 50%;}#sk-container-id-2 div.sk-parallel-item:last-child::after {align-self: flex-start;width: 50%;}#sk-container-id-2 div.sk-parallel-item:only-child::after {width: 0;}#sk-container-id-2 div.sk-dashed-wrapped {border: 1px dashed gray;margin: 0 0.4em 0.5em 0.4em;box-sizing: border-box;padding-bottom: 0.4em;background-color: white;}#sk-container-id-2 div.sk-label label {font-family: monospace;font-weight: bold;display: inline-block;line-height: 1.2em;}#sk-container-id-2 div.sk-label-container {text-align: center;}#sk-container-id-2 div.sk-container {/* jupyter's `normalize.less` sets `[hidden] { display: none; }` but bootstrap.min.css set `[hidden] { display: none !important; }` so we also need the `!important` here to be able to override the default hidden behavior on the sphinx rendered scikit-learn.org. See: https://github.com/scikit-learn/scikit-learn/issues/21755 */display: inline-block !important;position: relative;}#sk-container-id-2 div.sk-text-repr-fallback {display: none;}</style><div id=\"sk-container-id-2\" class=\"sk-top-container\"><div class=\"sk-text-repr-fallback\"><pre>MinMaxScaler()</pre><b>In a Jupyter environment, please rerun this cell to show the HTML representation or trust the notebook. <br />On GitHub, the HTML representation is unable to render, please try loading this page with nbviewer.org.</b></div><div class=\"sk-container\" hidden><div class=\"sk-item\"><div class=\"sk-estimator sk-toggleable\"><input class=\"sk-toggleable__control sk-hidden--visually\" id=\"sk-estimator-id-2\" type=\"checkbox\" checked><label for=\"sk-estimator-id-2\" class=\"sk-toggleable__label sk-toggleable__label-arrow\">MinMaxScaler</label><div class=\"sk-toggleable__content\"><pre>MinMaxScaler()</pre></div></div></div></div></div>"
            ]
          },
          "metadata": {},
          "execution_count": 64
        }
      ]
    },
    {
      "cell_type": "code",
      "source": [
        "X_train = scaler.transform(X_train)\n",
        "X_test = scaler.transform(X_test)"
      ],
      "metadata": {
        "id": "EokSgDZtLdaN"
      },
      "execution_count": 65,
      "outputs": []
    },
    {
      "cell_type": "code",
      "source": [
        "X_train"
      ],
      "metadata": {
        "colab": {
          "base_uri": "https://localhost:8080/"
        },
        "id": "2XrHHXatLtYk",
        "outputId": "db2956fe-92c1-42e9-8b4f-1ca242238713"
      },
      "execution_count": 66,
      "outputs": [
        {
          "output_type": "execute_result",
          "data": {
            "text/plain": [
              "array([[0.29437362, 0.46616385, 0.39095272, ..., 0.26207792, 0.48288821,\n",
              "        0.36181343],\n",
              "       [0.38868168, 0.336642  , 0.6123347 , ..., 0.77220779, 0.2980909 ,\n",
              "        0.5637896 ],\n",
              "       [0.38663592, 0.27275317, 0.75977147, ..., 0.95454545, 0.15217718,\n",
              "        0.77913397],\n",
              "       ...,\n",
              "       [0.25402369, 0.20843702, 0.50628457, ..., 0.7961039 , 0.28030265,\n",
              "        0.5882011 ],\n",
              "       [0.26589132, 0.31249491, 0.40447339, ..., 0.54      , 0.43363231,\n",
              "        0.40337111],\n",
              "       [0.29181925, 0.24454645, 0.51402703, ..., 0.79142857, 0.30951546,\n",
              "        0.55390875]])"
            ]
          },
          "metadata": {},
          "execution_count": 66
        }
      ]
    },
    {
      "cell_type": "markdown",
      "source": [
        "## Moldando nossas variáveis resposta\n",
        "\n",
        "Perceba que a nossa classes estão em um formato de estrutura de dados unidimensional (assim como uma coluna) e precisamos moldar para o formato de array n dimensional (matriz). Os famosos tensores!\n",
        "\n",
        "O comando reshape é utilizado para reformatar a estrutura de um array multidimensioanal, como um tensor, que é estrutura de dados fundamental usada em deep learning e processamento de dados em redes neurais."
      ],
      "metadata": {
        "id": "cDtrXrrYLm4W"
      }
    },
    {
      "cell_type": "code",
      "source": [
        "y_train.shape"
      ],
      "metadata": {
        "colab": {
          "base_uri": "https://localhost:8080/"
        },
        "id": "GcawwiKWLlrE",
        "outputId": "3a85a2e3-3b21-4d27-bb17-1cda06ab9744"
      },
      "execution_count": 67,
      "outputs": [
        {
          "output_type": "execute_result",
          "data": {
            "text/plain": [
              "(2000,)"
            ]
          },
          "metadata": {},
          "execution_count": 67
        }
      ]
    },
    {
      "cell_type": "code",
      "source": [
        "import numpy as np\n",
        "\n",
        "# reshape() molda uma matriz sem alterar os dados da matriz.\n",
        "y_train = np.asarray(y_train).astype('float32').reshape((-1,1))\n",
        "y_test = np.asarray(y_test).astype('float32').reshape((-1,1))"
      ],
      "metadata": {
        "id": "5uRNg-9AMvDo"
      },
      "execution_count": 68,
      "outputs": []
    },
    {
      "cell_type": "code",
      "source": [
        "y_train.shape"
      ],
      "metadata": {
        "colab": {
          "base_uri": "https://localhost:8080/"
        },
        "id": "_byTv4D1NMj3",
        "outputId": "3ebebf17-42f4-46a7-8283-70b129e31637"
      },
      "execution_count": 69,
      "outputs": [
        {
          "output_type": "execute_result",
          "data": {
            "text/plain": [
              "(2000, 1)"
            ]
          },
          "metadata": {},
          "execution_count": 69
        }
      ]
    },
    {
      "cell_type": "code",
      "source": [
        "type(y_train)"
      ],
      "metadata": {
        "colab": {
          "base_uri": "https://localhost:8080/"
        },
        "id": "5h4EwetJNwj_",
        "outputId": "2c5d1f2e-81ea-4ccf-a4c4-d573daa5c212"
      },
      "execution_count": 70,
      "outputs": [
        {
          "output_type": "execute_result",
          "data": {
            "text/plain": [
              "numpy.ndarray"
            ]
          },
          "metadata": {},
          "execution_count": 70
        }
      ]
    },
    {
      "cell_type": "markdown",
      "source": [
        "## Construindo a arquitetura da rede neural multicamadas\n"
      ],
      "metadata": {
        "id": "OuP1Q4_XN5ot"
      }
    },
    {
      "cell_type": "markdown",
      "source": [
        "Agora utilizando as bibliotecas tensorflow e keras, vamos contruir a arquitetura da nossa primeira rede neural."
      ],
      "metadata": {
        "id": "GAsliym7OCC5"
      }
    },
    {
      "cell_type": "code",
      "source": [
        "import tensorflow as tf\n",
        "\n",
        "# keras libraries\n",
        "from tensorflow import keras\n",
        "from keras import models\n",
        "from keras import layers\n",
        "from keras import metrics\n",
        "from keras.optimizers import Adam\n",
        "from keras.metrics import Precision\n",
        "from tqdm.keras import TqdmCallback"
      ],
      "metadata": {
        "id": "IcYwiUrnN4wm"
      },
      "execution_count": 71,
      "outputs": []
    },
    {
      "cell_type": "code",
      "source": [
        "X_train.shape[1]  # total de colunas"
      ],
      "metadata": {
        "colab": {
          "base_uri": "https://localhost:8080/"
        },
        "id": "6lVHw4j38M1X",
        "outputId": "8ffe7c89-07e9-4091-a64b-b641e6b09a34"
      },
      "execution_count": 72,
      "outputs": [
        {
          "output_type": "execute_result",
          "data": {
            "text/plain": [
              "9"
            ]
          },
          "metadata": {},
          "execution_count": 72
        }
      ]
    },
    {
      "cell_type": "code",
      "source": [
        "y_train.shape[1]  # total de colunas"
      ],
      "metadata": {
        "colab": {
          "base_uri": "https://localhost:8080/"
        },
        "id": "qIdJetZd8dUa",
        "outputId": "c67a2b09-9fcc-4b5f-ca89-0982c4e80ec8"
      },
      "execution_count": 73,
      "outputs": [
        {
          "output_type": "execute_result",
          "data": {
            "text/plain": [
              "1"
            ]
          },
          "metadata": {},
          "execution_count": 73
        }
      ]
    },
    {
      "cell_type": "code",
      "source": [
        "# Semente aleatória para manter os mesmos dados\n",
        "tf.random.set_seed(7)\n",
        "\n",
        "# Definindo entradas da rede + tamanho de batch de processamento\n",
        "input_shape = X_train.shape[1]  # Variáveis de entrada\n",
        "output_shape = y_train.shape[1] # Classe preditora\n",
        "batch_size = 100\n",
        "\n",
        "# Abrindo uma sequencia de neuronios\n",
        "model = models.Sequential()\n",
        "\n",
        "# input layer\n",
        "# Entrada de rede\n",
        "model.add(layers.Dense(\n",
        "    batch_size,\n",
        "    input_shape=(input_shape,),\n",
        "    activation='relu'\n",
        "))\n",
        "\n",
        "# hidden layer\n",
        "# Camada oculta\n",
        "model.add(layers.Dense(\n",
        "    24,\n",
        "    activation='relu'\n",
        "))\n",
        "\n",
        "# hidden layer\n",
        "# Camada oculta\n",
        "model.add(layers.Dense(\n",
        "    18,\n",
        "    activation='relu'\n",
        "))\n",
        "\n",
        "# dropout layer\n",
        "# Aplicando regularização\n",
        "model.add(layers.Dropout(0.2))\n",
        "\n",
        "# output layer\n",
        "# Camada de saída\n",
        "model.add(layers.Dense(\n",
        "    output_shape,\n",
        "    activation='sigmoid'\n",
        "))\n",
        "\n",
        "# Configurar o otimizador Adam com uma learning rate específica\n",
        "# Defina a learning rate desajada\n",
        "learning_rate = 0.001\n",
        "otimizador = Adam(learning_rate=learning_rate)\n",
        "\n",
        "# Compilar o modelo com o otimizador configurado\n",
        "model.compile(loss='binary_crossentropy', optimizer=otimizador, metrics=['accuracy'])\n",
        "\n",
        "# summary\n",
        "model.summary()"
      ],
      "metadata": {
        "id": "FxK8kt1eOpko",
        "colab": {
          "base_uri": "https://localhost:8080/",
          "height": 361
        },
        "outputId": "6e3b7da1-c0e4-4dc8-9a77-742c216016dc"
      },
      "execution_count": 74,
      "outputs": [
        {
          "output_type": "stream",
          "name": "stderr",
          "text": [
            "/usr/local/lib/python3.10/dist-packages/keras/src/layers/core/dense.py:87: UserWarning: Do not pass an `input_shape`/`input_dim` argument to a layer. When using Sequential models, prefer using an `Input(shape)` object as the first layer in the model instead.\n",
            "  super().__init__(activity_regularizer=activity_regularizer, **kwargs)\n"
          ]
        },
        {
          "output_type": "display_data",
          "data": {
            "text/plain": [
              "\u001b[1mModel: \"sequential_2\"\u001b[0m\n"
            ],
            "text/html": [
              "<pre style=\"white-space:pre;overflow-x:auto;line-height:normal;font-family:Menlo,'DejaVu Sans Mono',consolas,'Courier New',monospace\"><span style=\"font-weight: bold\">Model: \"sequential_2\"</span>\n",
              "</pre>\n"
            ]
          },
          "metadata": {}
        },
        {
          "output_type": "display_data",
          "data": {
            "text/plain": [
              "┏━━━━━━━━━━━━━━━━━━━━━━━━━━━━━━━━━━━━━━┳━━━━━━━━━━━━━━━━━━━━━━━━━━━━━┳━━━━━━━━━━━━━━━━━┓\n",
              "┃\u001b[1m \u001b[0m\u001b[1mLayer (type)                        \u001b[0m\u001b[1m \u001b[0m┃\u001b[1m \u001b[0m\u001b[1mOutput Shape               \u001b[0m\u001b[1m \u001b[0m┃\u001b[1m \u001b[0m\u001b[1m        Param #\u001b[0m\u001b[1m \u001b[0m┃\n",
              "┡━━━━━━━━━━━━━━━━━━━━━━━━━━━━━━━━━━━━━━╇━━━━━━━━━━━━━━━━━━━━━━━━━━━━━╇━━━━━━━━━━━━━━━━━┩\n",
              "│ dense_8 (\u001b[38;5;33mDense\u001b[0m)                      │ (\u001b[38;5;45mNone\u001b[0m, \u001b[38;5;34m100\u001b[0m)                 │           \u001b[38;5;34m1,000\u001b[0m │\n",
              "├──────────────────────────────────────┼─────────────────────────────┼─────────────────┤\n",
              "│ dense_9 (\u001b[38;5;33mDense\u001b[0m)                      │ (\u001b[38;5;45mNone\u001b[0m, \u001b[38;5;34m24\u001b[0m)                  │           \u001b[38;5;34m2,424\u001b[0m │\n",
              "├──────────────────────────────────────┼─────────────────────────────┼─────────────────┤\n",
              "│ dense_10 (\u001b[38;5;33mDense\u001b[0m)                     │ (\u001b[38;5;45mNone\u001b[0m, \u001b[38;5;34m18\u001b[0m)                  │             \u001b[38;5;34m450\u001b[0m │\n",
              "├──────────────────────────────────────┼─────────────────────────────┼─────────────────┤\n",
              "│ dropout_2 (\u001b[38;5;33mDropout\u001b[0m)                  │ (\u001b[38;5;45mNone\u001b[0m, \u001b[38;5;34m18\u001b[0m)                  │               \u001b[38;5;34m0\u001b[0m │\n",
              "├──────────────────────────────────────┼─────────────────────────────┼─────────────────┤\n",
              "│ dense_11 (\u001b[38;5;33mDense\u001b[0m)                     │ (\u001b[38;5;45mNone\u001b[0m, \u001b[38;5;34m1\u001b[0m)                   │              \u001b[38;5;34m19\u001b[0m │\n",
              "└──────────────────────────────────────┴─────────────────────────────┴─────────────────┘\n"
            ],
            "text/html": [
              "<pre style=\"white-space:pre;overflow-x:auto;line-height:normal;font-family:Menlo,'DejaVu Sans Mono',consolas,'Courier New',monospace\">┏━━━━━━━━━━━━━━━━━━━━━━━━━━━━━━━━━━━━━━┳━━━━━━━━━━━━━━━━━━━━━━━━━━━━━┳━━━━━━━━━━━━━━━━━┓\n",
              "┃<span style=\"font-weight: bold\"> Layer (type)                         </span>┃<span style=\"font-weight: bold\"> Output Shape                </span>┃<span style=\"font-weight: bold\">         Param # </span>┃\n",
              "┡━━━━━━━━━━━━━━━━━━━━━━━━━━━━━━━━━━━━━━╇━━━━━━━━━━━━━━━━━━━━━━━━━━━━━╇━━━━━━━━━━━━━━━━━┩\n",
              "│ dense_8 (<span style=\"color: #0087ff; text-decoration-color: #0087ff\">Dense</span>)                      │ (<span style=\"color: #00d7ff; text-decoration-color: #00d7ff\">None</span>, <span style=\"color: #00af00; text-decoration-color: #00af00\">100</span>)                 │           <span style=\"color: #00af00; text-decoration-color: #00af00\">1,000</span> │\n",
              "├──────────────────────────────────────┼─────────────────────────────┼─────────────────┤\n",
              "│ dense_9 (<span style=\"color: #0087ff; text-decoration-color: #0087ff\">Dense</span>)                      │ (<span style=\"color: #00d7ff; text-decoration-color: #00d7ff\">None</span>, <span style=\"color: #00af00; text-decoration-color: #00af00\">24</span>)                  │           <span style=\"color: #00af00; text-decoration-color: #00af00\">2,424</span> │\n",
              "├──────────────────────────────────────┼─────────────────────────────┼─────────────────┤\n",
              "│ dense_10 (<span style=\"color: #0087ff; text-decoration-color: #0087ff\">Dense</span>)                     │ (<span style=\"color: #00d7ff; text-decoration-color: #00d7ff\">None</span>, <span style=\"color: #00af00; text-decoration-color: #00af00\">18</span>)                  │             <span style=\"color: #00af00; text-decoration-color: #00af00\">450</span> │\n",
              "├──────────────────────────────────────┼─────────────────────────────┼─────────────────┤\n",
              "│ dropout_2 (<span style=\"color: #0087ff; text-decoration-color: #0087ff\">Dropout</span>)                  │ (<span style=\"color: #00d7ff; text-decoration-color: #00d7ff\">None</span>, <span style=\"color: #00af00; text-decoration-color: #00af00\">18</span>)                  │               <span style=\"color: #00af00; text-decoration-color: #00af00\">0</span> │\n",
              "├──────────────────────────────────────┼─────────────────────────────┼─────────────────┤\n",
              "│ dense_11 (<span style=\"color: #0087ff; text-decoration-color: #0087ff\">Dense</span>)                     │ (<span style=\"color: #00d7ff; text-decoration-color: #00d7ff\">None</span>, <span style=\"color: #00af00; text-decoration-color: #00af00\">1</span>)                   │              <span style=\"color: #00af00; text-decoration-color: #00af00\">19</span> │\n",
              "└──────────────────────────────────────┴─────────────────────────────┴─────────────────┘\n",
              "</pre>\n"
            ]
          },
          "metadata": {}
        },
        {
          "output_type": "display_data",
          "data": {
            "text/plain": [
              "\u001b[1m Total params: \u001b[0m\u001b[38;5;34m3,893\u001b[0m (15.21 KB)\n"
            ],
            "text/html": [
              "<pre style=\"white-space:pre;overflow-x:auto;line-height:normal;font-family:Menlo,'DejaVu Sans Mono',consolas,'Courier New',monospace\"><span style=\"font-weight: bold\"> Total params: </span><span style=\"color: #00af00; text-decoration-color: #00af00\">3,893</span> (15.21 KB)\n",
              "</pre>\n"
            ]
          },
          "metadata": {}
        },
        {
          "output_type": "display_data",
          "data": {
            "text/plain": [
              "\u001b[1m Trainable params: \u001b[0m\u001b[38;5;34m3,893\u001b[0m (15.21 KB)\n"
            ],
            "text/html": [
              "<pre style=\"white-space:pre;overflow-x:auto;line-height:normal;font-family:Menlo,'DejaVu Sans Mono',consolas,'Courier New',monospace\"><span style=\"font-weight: bold\"> Trainable params: </span><span style=\"color: #00af00; text-decoration-color: #00af00\">3,893</span> (15.21 KB)\n",
              "</pre>\n"
            ]
          },
          "metadata": {}
        },
        {
          "output_type": "display_data",
          "data": {
            "text/plain": [
              "\u001b[1m Non-trainable params: \u001b[0m\u001b[38;5;34m0\u001b[0m (0.00 B)\n"
            ],
            "text/html": [
              "<pre style=\"white-space:pre;overflow-x:auto;line-height:normal;font-family:Menlo,'DejaVu Sans Mono',consolas,'Courier New',monospace\"><span style=\"font-weight: bold\"> Non-trainable params: </span><span style=\"color: #00af00; text-decoration-color: #00af00\">0</span> (0.00 B)\n",
              "</pre>\n"
            ]
          },
          "metadata": {}
        }
      ]
    },
    {
      "cell_type": "markdown",
      "source": [
        "Agora vamos executar as épocas de processamento para a rede treinar e encontrar o menor erro:"
      ],
      "metadata": {
        "id": "P1qUmiMvBR4l"
      }
    },
    {
      "cell_type": "code",
      "source": [
        "# Configurando as épocas de processamento para a convergência do erro da função de custo\n",
        "epoch = 80\n",
        "\n",
        "hist = model.fit(X_train,\n",
        "                 y_train,\n",
        "                 epochs=epoch,\n",
        "                 batch_size=batch_size,\n",
        "                 shuffle=True,\n",
        "                 validation_data=(X_test, y_test),\n",
        "                 verbose=0,\n",
        "                 callbacks=[TqdmCallback(verbose=0)]) # 0 sem log - 1 ver log"
      ],
      "metadata": {
        "colab": {
          "base_uri": "https://localhost:8080/",
          "height": 49,
          "referenced_widgets": [
            "31820027dba143cf9e9ef54e42bc8f33",
            "2cfdb128cf6c4c528106554302636b33",
            "4d4851f6e30b4eefb226a08b289a8121",
            "76a99a498b68491f8810b882d549e0c9",
            "381be2ef2487442e9e73d0b4e9f1851a",
            "09c1ebc10aae4d56a13bd3e5d277fd3e",
            "5c6420438d4b4f2d9f7591d41035ea2b",
            "783172c039fc4055a034d826fe7ec4d7",
            "2bb35358a92542749d5ac7df47615191",
            "ca677d4fd4cc4c578a4d457a8c0720a2",
            "e27ae67af9f9457b938a83c4a61fe186"
          ]
        },
        "id": "JYf17cXgBak-",
        "outputId": "42a84fe0-e5c2-44ad-a765-adb68fdc1390"
      },
      "execution_count": 75,
      "outputs": [
        {
          "output_type": "display_data",
          "data": {
            "text/plain": [
              "0epoch [00:00, ?epoch/s]"
            ],
            "application/vnd.jupyter.widget-view+json": {
              "version_major": 2,
              "version_minor": 0,
              "model_id": "31820027dba143cf9e9ef54e42bc8f33"
            }
          },
          "metadata": {}
        }
      ]
    },
    {
      "cell_type": "code",
      "source": [
        "acc = '{:.2%}'.format(hist.history['accuracy'][-1])\n",
        "print(f'O modelo possui uma acurácia de {acc} com {epoch} epochs de processamento')"
      ],
      "metadata": {
        "colab": {
          "base_uri": "https://localhost:8080/"
        },
        "id": "Fga0FJqjCWCS",
        "outputId": "d80914a6-ccc6-4abc-eacb-adf916d5521b"
      },
      "execution_count": 76,
      "outputs": [
        {
          "output_type": "stream",
          "name": "stdout",
          "text": [
            "O modelo possui uma acurácia de 87.10% com 80 epochs de processamento\n"
          ]
        }
      ]
    },
    {
      "cell_type": "markdown",
      "source": [
        "## Validando nosso modelo\n",
        "\n",
        "É muito importante comparar a performance do modelo tanto na base de treinamento quanto de validação. Para isso vamos plotar dois gráficos para acompanhar a performace do modelo pelas épocas de processamento."
      ],
      "metadata": {
        "id": "iRlvDiuIDQ-u"
      }
    },
    {
      "cell_type": "code",
      "source": [
        "# Visualizando os resultados de treino\n",
        "acc = hist.history['accuracy']\n",
        "val_acc = hist.history['val_accuracy']\n",
        "\n",
        "loss = hist.history['loss']\n",
        "val_loss = hist.history['val_loss']\n",
        "\n",
        "epochs_range = range(epoch)\n",
        "\n",
        "# Plot Acurácia\n",
        "plt.figure(figsize=(20,8))\n",
        "plt.subplot(1, 2, 1)\n",
        "plt.plot(epochs_range, acc, label='Acurácia de Treinamento')\n",
        "plt.plot(epochs_range, val_acc, label='Acurácia de Validação')\n",
        "plt.legend(loc='lower right')\n",
        "plt.title('Acurácia de treino e teste')\n",
        "\n",
        "# Plot Erro de treinamento\n",
        "plt.subplot(1, 2, 2)\n",
        "plt.plot(epochs_range, loss, label='Erro de treinamento')\n",
        "plt.plot(epochs_range, val_loss, label='Erro de validação')\n",
        "plt.legend(loc='upper right')\n",
        "plt.title('Erro de treinamento vs validação')\n",
        "plt.show()"
      ],
      "metadata": {
        "colab": {
          "base_uri": "https://localhost:8080/",
          "height": 528
        },
        "id": "q3h7JoTJDQPs",
        "outputId": "c5a38cf3-b8d5-4ed7-dfa7-092a5f3db99c"
      },
      "execution_count": 77,
      "outputs": [
        {
          "output_type": "display_data",
          "data": {
            "text/plain": [
              "<Figure size 2000x800 with 2 Axes>"
            ],
            "image/png": "[encoded data removed]"
          },
          "metadata": {}
        }
      ]
    },
    {
      "cell_type": "code",
      "source": [
        "from sklearn.metrics import classification_report\n",
        "\n",
        "# Predictions\n",
        "y_pred = model.predict(X_test)\n",
        "y_pred_class = [round(x[0]) for x in y_pred]\n",
        "y_test_class = y_test\n",
        "\n",
        "# classification report\n",
        "class_names = []\n",
        "for i in y.unique():\n",
        "  class_names.append(le.inverse_transform([i])[0])\n",
        "\n",
        "print(classification_report(y_test_class, y_pred_class, target_names=class_names))"
      ],
      "metadata": {
        "colab": {
          "base_uri": "https://localhost:8080/"
        },
        "id": "ZaoUkAMRHQ9_",
        "outputId": "0c4bfa36-30fd-4e24-b799-897181a19f67"
      },
      "execution_count": 81,
      "outputs": [
        {
          "output_type": "stream",
          "name": "stdout",
          "text": [
            "\u001b[1m16/16\u001b[0m \u001b[32m━━━━━━━━━━━━━━━━━━━━\u001b[0m\u001b[37m\u001b[0m \u001b[1m0s\u001b[0m 11ms/step\n",
            "                   precision    recall  f1-score   support\n",
            "\n",
            "  (A) Çerçevelik        0.91      0.93      0.92       289\n",
            "(B) Ürgüp Sivrisi       0.91      0.87      0.89       211\n",
            "\n",
            "         accuracy                           0.91       500\n",
            "        macro avg       0.91      0.90      0.90       500\n",
            "     weighted avg       0.91      0.91      0.91       500\n",
            "\n"
          ]
        }
      ]
    }
  ]
}