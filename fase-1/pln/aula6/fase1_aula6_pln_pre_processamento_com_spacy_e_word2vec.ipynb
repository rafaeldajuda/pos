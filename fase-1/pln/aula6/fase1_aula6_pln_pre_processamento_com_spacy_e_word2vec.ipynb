{
  "nbformat": 4,
  "nbformat_minor": 0,
  "metadata": {
    "colab": {
      "provenance": []
    },
    "kernelspec": {
      "name": "python3",
      "display_name": "Python 3"
    },
    "language_info": {
      "name": "python"
    }
  },
  "cells": [
    {
      "cell_type": "markdown",
      "source": [
        "Iremos utilizar a biblioteca SpaCy no lugar do NLTK e criar um modelo Word2Vec do zero sem uma base pré-treinada, assim você vai conseguir criar um classificador com o seu próprio modelo."
      ],
      "metadata": {
        "id": "UOBZbnGufTqQ"
      }
    },
    {
      "cell_type": "markdown",
      "source": [
        "# SpaCy\n",
        "\n",
        "**SpaCy** é uma biblioteca de processamento de linguagem natural (NLP) de código aberto para Python. É amplamente utilizada para construir aplicações que processam e \"compreendem\" textos escritos, como análise de sentimento, reconhecimento de entidades nomeadas (NER), segmentação de frases, lematização, e muito mais. SpaCy é conhecida por ser rápida, eficiente e fácil de usar.\n",
        "\n",
        "## Características principais do spaCy\n",
        "\n",
        "1. **Desempenho**: Projetada para ser eficiente e rápida, spaCy é capaz de processar grandes volumes de texto com rapidez, tornando-a adequada para aplicações em produção.\n",
        "\n",
        "2. **Modelos pré-treinados**: Oferece uma série de modelos pré-treinados para várias línguas, o que facilita a implementação de tarefas comuns de NLP sem a necessidade de treinamento manual de modelos.\n",
        "\n",
        "3. **Funcionalidades avançadas**: Suporta uma ampla gama de tarefas de NLP, incluindo:\n",
        "   - Tokenização\n",
        "   - POS tagging (marcação de partes do discurso)\n",
        "   - Lematização\n",
        "   - Reconhecimento de entidades nomeadas (NER)\n",
        "   - Análise de dependência sintática\n",
        "   - Vetores de palavras (word vectors)\n",
        "\n",
        "4. **Extensibilidade**: Permite a integração com outras bibliotecas de aprendizado de máquina e NLP, como TensorFlow, PyTorch, e scikit-learn, facilitando a criação de pipelines complexas de processamento de texto.\n",
        "\n",
        "5. **Comunidade e suporte**: Tem uma comunidade ativa e uma boa documentação, com tutoriais e exemplos que ajudam novos usuários a começar rapidamente.\n",
        "\n",
        "## Resumo\n",
        "\n",
        "SpaCy é uma poderosa biblioteca de NLP que oferece ferramentas eficientes e robustas para processamento de texto, com suporte a modelos pré-treinados e integração com outras tecnologias de aprendizado de máquina, tornando-a uma escolha popular entre desenvolvedores e pesquisadores.\n"
      ],
      "metadata": {
        "id": "44QT1S2HfpNJ"
      }
    },
    {
      "cell_type": "markdown",
      "source": [
        "# Inicio"
      ],
      "metadata": {
        "id": "jDXkUQ9QgL7g"
      }
    },
    {
      "cell_type": "code",
      "execution_count": 1,
      "metadata": {
        "id": "_xNsgFIFeZd9"
      },
      "outputs": [],
      "source": [
        "import pandas as pd\n",
        "\n",
        "artigo_treino = pd.read_csv('/content/drive/MyDrive/Colab Notebooks/Word2Vec/treino.csv')\n",
        "artigo_teste = pd.read_csv('/content/drive/MyDrive/Colab Notebooks/Word2Vec/teste.csv')"
      ]
    },
    {
      "cell_type": "markdown",
      "source": [
        "## Instalação do spacy\n",
        "\n",
        "https://spacy.io/usage\n",
        "\n",
        "pip install -U pip setuptools wheel (obs: já instalado no colab)<br/>\n",
        "pip install -U spacy (obs: já instalado no colab)<br/>\n",
        "python -m spacy download pt_core_news_sm (obs: pacote em portugues)"
      ],
      "metadata": {
        "id": "xozEGzgNg8FJ"
      }
    },
    {
      "cell_type": "code",
      "source": [
        "!python -m spacy download pt_core_news_sm"
      ],
      "metadata": {
        "colab": {
          "base_uri": "https://localhost:8080/"
        },
        "id": "qlbdXOExhJaD",
        "outputId": "d57cd7fd-2a46-44a8-d6d0-c5ed5348b4db"
      },
      "execution_count": 4,
      "outputs": [
        {
          "output_type": "stream",
          "name": "stdout",
          "text": [
            "Collecting pt-core-news-sm==3.7.0\n",
            "  Downloading https://github.com/explosion/spacy-models/releases/download/pt_core_news_sm-3.7.0/pt_core_news_sm-3.7.0-py3-none-any.whl (13.0 MB)\n",
            "\u001b[2K     \u001b[90m━━━━━━━━━━━━━━━━━━━━━━━━━━━━━━━━━━━━━━━━\u001b[0m \u001b[32m13.0/13.0 MB\u001b[0m \u001b[31m35.2 MB/s\u001b[0m eta \u001b[36m0:00:00\u001b[0m\n",
            "\u001b[?25hRequirement already satisfied: spacy<3.8.0,>=3.7.0 in /usr/local/lib/python3.10/dist-packages (from pt-core-news-sm==3.7.0) (3.7.4)\n",
            "Requirement already satisfied: spacy-legacy<3.1.0,>=3.0.11 in /usr/local/lib/python3.10/dist-packages (from spacy<3.8.0,>=3.7.0->pt-core-news-sm==3.7.0) (3.0.12)\n",
            "Requirement already satisfied: spacy-loggers<2.0.0,>=1.0.0 in /usr/local/lib/python3.10/dist-packages (from spacy<3.8.0,>=3.7.0->pt-core-news-sm==3.7.0) (1.0.5)\n",
            "Requirement already satisfied: murmurhash<1.1.0,>=0.28.0 in /usr/local/lib/python3.10/dist-packages (from spacy<3.8.0,>=3.7.0->pt-core-news-sm==3.7.0) (1.0.10)\n",
            "Requirement already satisfied: cymem<2.1.0,>=2.0.2 in /usr/local/lib/python3.10/dist-packages (from spacy<3.8.0,>=3.7.0->pt-core-news-sm==3.7.0) (2.0.8)\n",
            "Requirement already satisfied: preshed<3.1.0,>=3.0.2 in /usr/local/lib/python3.10/dist-packages (from spacy<3.8.0,>=3.7.0->pt-core-news-sm==3.7.0) (3.0.9)\n",
            "Requirement already satisfied: thinc<8.3.0,>=8.2.2 in /usr/local/lib/python3.10/dist-packages (from spacy<3.8.0,>=3.7.0->pt-core-news-sm==3.7.0) (8.2.3)\n",
            "Requirement already satisfied: wasabi<1.2.0,>=0.9.1 in /usr/local/lib/python3.10/dist-packages (from spacy<3.8.0,>=3.7.0->pt-core-news-sm==3.7.0) (1.1.2)\n",
            "Requirement already satisfied: srsly<3.0.0,>=2.4.3 in /usr/local/lib/python3.10/dist-packages (from spacy<3.8.0,>=3.7.0->pt-core-news-sm==3.7.0) (2.4.8)\n",
            "Requirement already satisfied: catalogue<2.1.0,>=2.0.6 in /usr/local/lib/python3.10/dist-packages (from spacy<3.8.0,>=3.7.0->pt-core-news-sm==3.7.0) (2.0.10)\n",
            "Requirement already satisfied: weasel<0.4.0,>=0.1.0 in /usr/local/lib/python3.10/dist-packages (from spacy<3.8.0,>=3.7.0->pt-core-news-sm==3.7.0) (0.3.4)\n",
            "Requirement already satisfied: typer<0.10.0,>=0.3.0 in /usr/local/lib/python3.10/dist-packages (from spacy<3.8.0,>=3.7.0->pt-core-news-sm==3.7.0) (0.9.4)\n",
            "Requirement already satisfied: smart-open<7.0.0,>=5.2.1 in /usr/local/lib/python3.10/dist-packages (from spacy<3.8.0,>=3.7.0->pt-core-news-sm==3.7.0) (6.4.0)\n",
            "Requirement already satisfied: tqdm<5.0.0,>=4.38.0 in /usr/local/lib/python3.10/dist-packages (from spacy<3.8.0,>=3.7.0->pt-core-news-sm==3.7.0) (4.66.4)\n",
            "Requirement already satisfied: requests<3.0.0,>=2.13.0 in /usr/local/lib/python3.10/dist-packages (from spacy<3.8.0,>=3.7.0->pt-core-news-sm==3.7.0) (2.31.0)\n",
            "Requirement already satisfied: pydantic!=1.8,!=1.8.1,<3.0.0,>=1.7.4 in /usr/local/lib/python3.10/dist-packages (from spacy<3.8.0,>=3.7.0->pt-core-news-sm==3.7.0) (2.7.1)\n",
            "Requirement already satisfied: jinja2 in /usr/local/lib/python3.10/dist-packages (from spacy<3.8.0,>=3.7.0->pt-core-news-sm==3.7.0) (3.1.4)\n",
            "Requirement already satisfied: setuptools in /usr/local/lib/python3.10/dist-packages (from spacy<3.8.0,>=3.7.0->pt-core-news-sm==3.7.0) (67.7.2)\n",
            "Requirement already satisfied: packaging>=20.0 in /usr/local/lib/python3.10/dist-packages (from spacy<3.8.0,>=3.7.0->pt-core-news-sm==3.7.0) (24.0)\n",
            "Requirement already satisfied: langcodes<4.0.0,>=3.2.0 in /usr/local/lib/python3.10/dist-packages (from spacy<3.8.0,>=3.7.0->pt-core-news-sm==3.7.0) (3.4.0)\n",
            "Requirement already satisfied: numpy>=1.19.0 in /usr/local/lib/python3.10/dist-packages (from spacy<3.8.0,>=3.7.0->pt-core-news-sm==3.7.0) (1.25.2)\n",
            "Requirement already satisfied: language-data>=1.2 in /usr/local/lib/python3.10/dist-packages (from langcodes<4.0.0,>=3.2.0->spacy<3.8.0,>=3.7.0->pt-core-news-sm==3.7.0) (1.2.0)\n",
            "Requirement already satisfied: annotated-types>=0.4.0 in /usr/local/lib/python3.10/dist-packages (from pydantic!=1.8,!=1.8.1,<3.0.0,>=1.7.4->spacy<3.8.0,>=3.7.0->pt-core-news-sm==3.7.0) (0.6.0)\n",
            "Requirement already satisfied: pydantic-core==2.18.2 in /usr/local/lib/python3.10/dist-packages (from pydantic!=1.8,!=1.8.1,<3.0.0,>=1.7.4->spacy<3.8.0,>=3.7.0->pt-core-news-sm==3.7.0) (2.18.2)\n",
            "Requirement already satisfied: typing-extensions>=4.6.1 in /usr/local/lib/python3.10/dist-packages (from pydantic!=1.8,!=1.8.1,<3.0.0,>=1.7.4->spacy<3.8.0,>=3.7.0->pt-core-news-sm==3.7.0) (4.11.0)\n",
            "Requirement already satisfied: charset-normalizer<4,>=2 in /usr/local/lib/python3.10/dist-packages (from requests<3.0.0,>=2.13.0->spacy<3.8.0,>=3.7.0->pt-core-news-sm==3.7.0) (3.3.2)\n",
            "Requirement already satisfied: idna<4,>=2.5 in /usr/local/lib/python3.10/dist-packages (from requests<3.0.0,>=2.13.0->spacy<3.8.0,>=3.7.0->pt-core-news-sm==3.7.0) (3.7)\n",
            "Requirement already satisfied: urllib3<3,>=1.21.1 in /usr/local/lib/python3.10/dist-packages (from requests<3.0.0,>=2.13.0->spacy<3.8.0,>=3.7.0->pt-core-news-sm==3.7.0) (2.0.7)\n",
            "Requirement already satisfied: certifi>=2017.4.17 in /usr/local/lib/python3.10/dist-packages (from requests<3.0.0,>=2.13.0->spacy<3.8.0,>=3.7.0->pt-core-news-sm==3.7.0) (2024.2.2)\n",
            "Requirement already satisfied: blis<0.8.0,>=0.7.8 in /usr/local/lib/python3.10/dist-packages (from thinc<8.3.0,>=8.2.2->spacy<3.8.0,>=3.7.0->pt-core-news-sm==3.7.0) (0.7.11)\n",
            "Requirement already satisfied: confection<1.0.0,>=0.0.1 in /usr/local/lib/python3.10/dist-packages (from thinc<8.3.0,>=8.2.2->spacy<3.8.0,>=3.7.0->pt-core-news-sm==3.7.0) (0.1.4)\n",
            "Requirement already satisfied: click<9.0.0,>=7.1.1 in /usr/local/lib/python3.10/dist-packages (from typer<0.10.0,>=0.3.0->spacy<3.8.0,>=3.7.0->pt-core-news-sm==3.7.0) (8.1.7)\n",
            "Requirement already satisfied: cloudpathlib<0.17.0,>=0.7.0 in /usr/local/lib/python3.10/dist-packages (from weasel<0.4.0,>=0.1.0->spacy<3.8.0,>=3.7.0->pt-core-news-sm==3.7.0) (0.16.0)\n",
            "Requirement already satisfied: MarkupSafe>=2.0 in /usr/local/lib/python3.10/dist-packages (from jinja2->spacy<3.8.0,>=3.7.0->pt-core-news-sm==3.7.0) (2.1.5)\n",
            "Requirement already satisfied: marisa-trie>=0.7.7 in /usr/local/lib/python3.10/dist-packages (from language-data>=1.2->langcodes<4.0.0,>=3.2.0->spacy<3.8.0,>=3.7.0->pt-core-news-sm==3.7.0) (1.1.1)\n",
            "Installing collected packages: pt-core-news-sm\n",
            "Successfully installed pt-core-news-sm-3.7.0\n",
            "\u001b[38;5;2m✔ Download and installation successful\u001b[0m\n",
            "You can now load the package via spacy.load('pt_core_news_sm')\n",
            "\u001b[38;5;3m⚠ Restart to reload dependencies\u001b[0m\n",
            "If you are in a Jupyter or Colab notebook, you may need to restart Python in\n",
            "order to load all the package's dependencies. You can do this by selecting the\n",
            "'Restart kernel' or 'Restart runtime' option.\n"
          ]
        }
      ]
    },
    {
      "cell_type": "markdown",
      "source": [
        "OBS:  após baixar o pacote irá ter a seguinte mesangem, \"Restart to reload dependencie\". Para fazer isso ir em \"Ambiente de execução\" -> \"Reiniciar sessão\""
      ],
      "metadata": {
        "id": "0_9wNXechdSz"
      }
    },
    {
      "cell_type": "code",
      "source": [
        "import spacy\n",
        "nlp = spacy.load('pt_core_news_sm')"
      ],
      "metadata": {
        "id": "7RKesVBBh4n0"
      },
      "execution_count": 2,
      "outputs": []
    },
    {
      "cell_type": "code",
      "source": [
        "texto = 'Adoro a cidade de caldas novas!'\n",
        "doc = nlp(texto)"
      ],
      "metadata": {
        "id": "MMJ2ID1uiEGQ"
      },
      "execution_count": 4,
      "outputs": []
    },
    {
      "cell_type": "code",
      "source": [
        "type(doc)"
      ],
      "metadata": {
        "colab": {
          "base_uri": "https://localhost:8080/"
        },
        "id": "mstReLb5iK5D",
        "outputId": "fd188496-65d7-49d9-e4f5-7269149d62de"
      },
      "execution_count": 5,
      "outputs": [
        {
          "output_type": "execute_result",
          "data": {
            "text/plain": [
              "spacy.tokens.doc.Doc"
            ]
          },
          "metadata": {},
          "execution_count": 5
        }
      ]
    },
    {
      "cell_type": "code",
      "source": [
        "doc.ents"
      ],
      "metadata": {
        "colab": {
          "base_uri": "https://localhost:8080/"
        },
        "id": "RcHoNh7aiXWm",
        "outputId": "07c0af05-31bb-40b4-eec5-51aa729a51e1"
      },
      "execution_count": 6,
      "outputs": [
        {
          "output_type": "execute_result",
          "data": {
            "text/plain": [
              "(Adoro, caldas novas)"
            ]
          },
          "metadata": {},
          "execution_count": 6
        }
      ]
    },
    {
      "cell_type": "code",
      "source": [
        "doc[1].is_stop"
      ],
      "metadata": {
        "colab": {
          "base_uri": "https://localhost:8080/"
        },
        "id": "YodCXkRBii1w",
        "outputId": "2b748536-cd26-4bae-cfa2-d13b76c83787"
      },
      "execution_count": 7,
      "outputs": [
        {
          "output_type": "execute_result",
          "data": {
            "text/plain": [
              "True"
            ]
          },
          "metadata": {},
          "execution_count": 7
        }
      ]
    },
    {
      "cell_type": "code",
      "source": [
        "doc[0].is_stop"
      ],
      "metadata": {
        "colab": {
          "base_uri": "https://localhost:8080/"
        },
        "id": "w-QjliLBilnA",
        "outputId": "f41f91c5-fbc2-4c34-ea65-8db0a4530f0a"
      },
      "execution_count": 9,
      "outputs": [
        {
          "output_type": "execute_result",
          "data": {
            "text/plain": [
              "False"
            ]
          },
          "metadata": {},
          "execution_count": 9
        }
      ]
    },
    {
      "cell_type": "code",
      "source": [
        "doc[1].is_alpha"
      ],
      "metadata": {
        "colab": {
          "base_uri": "https://localhost:8080/"
        },
        "id": "4kSvzSgyiswx",
        "outputId": "92de442f-a908-427c-bb08-5ccda4273134"
      },
      "execution_count": 10,
      "outputs": [
        {
          "output_type": "execute_result",
          "data": {
            "text/plain": [
              "True"
            ]
          },
          "metadata": {},
          "execution_count": 10
        }
      ]
    },
    {
      "cell_type": "code",
      "source": [
        "def trata_textos(doc):\n",
        "  tokens_validos = []\n",
        "\n",
        "  for token in doc:\n",
        "    e_valido = not token.is_stop and token.is_alpha\n",
        "    if e_valido:\n",
        "      tokens_validos.append(token.text)\n",
        "\n",
        "  if len(tokens_validos) > 2:\n",
        "    return \" \".join(tokens_validos)"
      ],
      "metadata": {
        "id": "BQpRhZDiizEy"
      },
      "execution_count": 11,
      "outputs": []
    },
    {
      "cell_type": "code",
      "source": [
        "texto = 'Adoro a 23424342 #$#$#$#$#$ cidade de caldas novas!'\n",
        "doc = nlp(texto)\n",
        "trata_textos(doc)"
      ],
      "metadata": {
        "colab": {
          "base_uri": "https://localhost:8080/",
          "height": 37
        },
        "id": "Qui2hS0NjhTG",
        "outputId": "925225eb-6bf5-456b-ab5b-f767dea3d4d7"
      },
      "execution_count": 12,
      "outputs": [
        {
          "output_type": "execute_result",
          "data": {
            "text/plain": [
              "'Adoro cidade caldas'"
            ],
            "application/vnd.google.colaboratory.intrinsic+json": {
              "type": "string"
            }
          },
          "metadata": {},
          "execution_count": 12
        }
      ]
    },
    {
      "cell_type": "code",
      "source": [
        "textos_para_tratamento = (titulos.lower() for titulos in artigo_treino.title)\n",
        "\n",
        "# batch_size -> tamanho do bloco de processamento\n",
        "# n_process -> quantidade de núcleos do processador\n",
        "textos_tratados = [trata_textos(doc) for doc in nlp.pipe(textos_para_tratamento,\n",
        "                                                         batch_size=1000,\n",
        "                                                         n_process=-1)]"
      ],
      "metadata": {
        "id": "xFN7_TuHj6dj"
      },
      "execution_count": 17,
      "outputs": []
    },
    {
      "cell_type": "code",
      "source": [
        "titulos_tratados = pd.DataFrame({'titulo': textos_tratados})\n",
        "titulos_tratados.head()"
      ],
      "metadata": {
        "colab": {
          "base_uri": "https://localhost:8080/",
          "height": 206
        },
        "id": "GfGyC47Tmy8G",
        "outputId": "2c4aa528-2290-49f6-ccaf-9d0eee34aaf4"
      },
      "execution_count": 25,
      "outputs": [
        {
          "output_type": "execute_result",
          "data": {
            "text/plain": [
              "                                              titulo\n",
              "0  polêmica marine le pen abomina negacionistas h...\n",
              "1  macron le pen turno frança revés siglas tradic...\n",
              "2  apesar larga vitória legislativas macron terá ...\n",
              "3  governo antecipa balanço alckmin anuncia queda...\n",
              "4       queda maio atividade econômica sobe junho bc"
            ],
            "text/html": [
              "\n",
              "  <div id=\"df-76935a01-59c1-4ad9-85ab-0b2d3065038e\" class=\"colab-df-container\">\n",
              "    <div>\n",
              "<style scoped>\n",
              "    .dataframe tbody tr th:only-of-type {\n",
              "        vertical-align: middle;\n",
              "    }\n",
              "\n",
              "    .dataframe tbody tr th {\n",
              "        vertical-align: top;\n",
              "    }\n",
              "\n",
              "    .dataframe thead th {\n",
              "        text-align: right;\n",
              "    }\n",
              "</style>\n",
              "<table border=\"1\" class=\"dataframe\">\n",
              "  <thead>\n",
              "    <tr style=\"text-align: right;\">\n",
              "      <th></th>\n",
              "      <th>titulo</th>\n",
              "    </tr>\n",
              "  </thead>\n",
              "  <tbody>\n",
              "    <tr>\n",
              "      <th>0</th>\n",
              "      <td>polêmica marine le pen abomina negacionistas h...</td>\n",
              "    </tr>\n",
              "    <tr>\n",
              "      <th>1</th>\n",
              "      <td>macron le pen turno frança revés siglas tradic...</td>\n",
              "    </tr>\n",
              "    <tr>\n",
              "      <th>2</th>\n",
              "      <td>apesar larga vitória legislativas macron terá ...</td>\n",
              "    </tr>\n",
              "    <tr>\n",
              "      <th>3</th>\n",
              "      <td>governo antecipa balanço alckmin anuncia queda...</td>\n",
              "    </tr>\n",
              "    <tr>\n",
              "      <th>4</th>\n",
              "      <td>queda maio atividade econômica sobe junho bc</td>\n",
              "    </tr>\n",
              "  </tbody>\n",
              "</table>\n",
              "</div>\n",
              "    <div class=\"colab-df-buttons\">\n",
              "\n",
              "  <div class=\"colab-df-container\">\n",
              "    <button class=\"colab-df-convert\" onclick=\"convertToInteractive('df-76935a01-59c1-4ad9-85ab-0b2d3065038e')\"\n",
              "            title=\"Convert this dataframe to an interactive table.\"\n",
              "            style=\"display:none;\">\n",
              "\n",
              "  <svg xmlns=\"http://www.w3.org/2000/svg\" height=\"24px\" viewBox=\"0 -960 960 960\">\n",
              "    <path d=\"M120-120v-720h720v720H120Zm60-500h600v-160H180v160Zm220 220h160v-160H400v160Zm0 220h160v-160H400v160ZM180-400h160v-160H180v160Zm440 0h160v-160H620v160ZM180-180h160v-160H180v160Zm440 0h160v-160H620v160Z\"/>\n",
              "  </svg>\n",
              "    </button>\n",
              "\n",
              "  <style>\n",
              "    .colab-df-container {\n",
              "      display:flex;\n",
              "      gap: 12px;\n",
              "    }\n",
              "\n",
              "    .colab-df-convert {\n",
              "      background-color: #E8F0FE;\n",
              "      border: none;\n",
              "      border-radius: 50%;\n",
              "      cursor: pointer;\n",
              "      display: none;\n",
              "      fill: #1967D2;\n",
              "      height: 32px;\n",
              "      padding: 0 0 0 0;\n",
              "      width: 32px;\n",
              "    }\n",
              "\n",
              "    .colab-df-convert:hover {\n",
              "      background-color: #E2EBFA;\n",
              "      box-shadow: 0px 1px 2px rgba(60, 64, 67, 0.3), 0px 1px 3px 1px rgba(60, 64, 67, 0.15);\n",
              "      fill: #174EA6;\n",
              "    }\n",
              "\n",
              "    .colab-df-buttons div {\n",
              "      margin-bottom: 4px;\n",
              "    }\n",
              "\n",
              "    [theme=dark] .colab-df-convert {\n",
              "      background-color: #3B4455;\n",
              "      fill: #D2E3FC;\n",
              "    }\n",
              "\n",
              "    [theme=dark] .colab-df-convert:hover {\n",
              "      background-color: #434B5C;\n",
              "      box-shadow: 0px 1px 3px 1px rgba(0, 0, 0, 0.15);\n",
              "      filter: drop-shadow(0px 1px 2px rgba(0, 0, 0, 0.3));\n",
              "      fill: #FFFFFF;\n",
              "    }\n",
              "  </style>\n",
              "\n",
              "    <script>\n",
              "      const buttonEl =\n",
              "        document.querySelector('#df-76935a01-59c1-4ad9-85ab-0b2d3065038e button.colab-df-convert');\n",
              "      buttonEl.style.display =\n",
              "        google.colab.kernel.accessAllowed ? 'block' : 'none';\n",
              "\n",
              "      async function convertToInteractive(key) {\n",
              "        const element = document.querySelector('#df-76935a01-59c1-4ad9-85ab-0b2d3065038e');\n",
              "        const dataTable =\n",
              "          await google.colab.kernel.invokeFunction('convertToInteractive',\n",
              "                                                    [key], {});\n",
              "        if (!dataTable) return;\n",
              "\n",
              "        const docLinkHtml = 'Like what you see? Visit the ' +\n",
              "          '<a target=\"_blank\" href=https://colab.research.google.com/notebooks/data_table.ipynb>data table notebook</a>'\n",
              "          + ' to learn more about interactive tables.';\n",
              "        element.innerHTML = '';\n",
              "        dataTable['output_type'] = 'display_data';\n",
              "        await google.colab.output.renderOutput(dataTable, element);\n",
              "        const docLink = document.createElement('div');\n",
              "        docLink.innerHTML = docLinkHtml;\n",
              "        element.appendChild(docLink);\n",
              "      }\n",
              "    </script>\n",
              "  </div>\n",
              "\n",
              "\n",
              "<div id=\"df-b92506dc-cc7f-40dd-84c6-d620f05c728f\">\n",
              "  <button class=\"colab-df-quickchart\" onclick=\"quickchart('df-b92506dc-cc7f-40dd-84c6-d620f05c728f')\"\n",
              "            title=\"Suggest charts\"\n",
              "            style=\"display:none;\">\n",
              "\n",
              "<svg xmlns=\"http://www.w3.org/2000/svg\" height=\"24px\"viewBox=\"0 0 24 24\"\n",
              "     width=\"24px\">\n",
              "    <g>\n",
              "        <path d=\"M19 3H5c-1.1 0-2 .9-2 2v14c0 1.1.9 2 2 2h14c1.1 0 2-.9 2-2V5c0-1.1-.9-2-2-2zM9 17H7v-7h2v7zm4 0h-2V7h2v10zm4 0h-2v-4h2v4z\"/>\n",
              "    </g>\n",
              "</svg>\n",
              "  </button>\n",
              "\n",
              "<style>\n",
              "  .colab-df-quickchart {\n",
              "      --bg-color: #E8F0FE;\n",
              "      --fill-color: #1967D2;\n",
              "      --hover-bg-color: #E2EBFA;\n",
              "      --hover-fill-color: #174EA6;\n",
              "      --disabled-fill-color: #AAA;\n",
              "      --disabled-bg-color: #DDD;\n",
              "  }\n",
              "\n",
              "  [theme=dark] .colab-df-quickchart {\n",
              "      --bg-color: #3B4455;\n",
              "      --fill-color: #D2E3FC;\n",
              "      --hover-bg-color: #434B5C;\n",
              "      --hover-fill-color: #FFFFFF;\n",
              "      --disabled-bg-color: #3B4455;\n",
              "      --disabled-fill-color: #666;\n",
              "  }\n",
              "\n",
              "  .colab-df-quickchart {\n",
              "    background-color: var(--bg-color);\n",
              "    border: none;\n",
              "    border-radius: 50%;\n",
              "    cursor: pointer;\n",
              "    display: none;\n",
              "    fill: var(--fill-color);\n",
              "    height: 32px;\n",
              "    padding: 0;\n",
              "    width: 32px;\n",
              "  }\n",
              "\n",
              "  .colab-df-quickchart:hover {\n",
              "    background-color: var(--hover-bg-color);\n",
              "    box-shadow: 0 1px 2px rgba(60, 64, 67, 0.3), 0 1px 3px 1px rgba(60, 64, 67, 0.15);\n",
              "    fill: var(--button-hover-fill-color);\n",
              "  }\n",
              "\n",
              "  .colab-df-quickchart-complete:disabled,\n",
              "  .colab-df-quickchart-complete:disabled:hover {\n",
              "    background-color: var(--disabled-bg-color);\n",
              "    fill: var(--disabled-fill-color);\n",
              "    box-shadow: none;\n",
              "  }\n",
              "\n",
              "  .colab-df-spinner {\n",
              "    border: 2px solid var(--fill-color);\n",
              "    border-color: transparent;\n",
              "    border-bottom-color: var(--fill-color);\n",
              "    animation:\n",
              "      spin 1s steps(1) infinite;\n",
              "  }\n",
              "\n",
              "  @keyframes spin {\n",
              "    0% {\n",
              "      border-color: transparent;\n",
              "      border-bottom-color: var(--fill-color);\n",
              "      border-left-color: var(--fill-color);\n",
              "    }\n",
              "    20% {\n",
              "      border-color: transparent;\n",
              "      border-left-color: var(--fill-color);\n",
              "      border-top-color: var(--fill-color);\n",
              "    }\n",
              "    30% {\n",
              "      border-color: transparent;\n",
              "      border-left-color: var(--fill-color);\n",
              "      border-top-color: var(--fill-color);\n",
              "      border-right-color: var(--fill-color);\n",
              "    }\n",
              "    40% {\n",
              "      border-color: transparent;\n",
              "      border-right-color: var(--fill-color);\n",
              "      border-top-color: var(--fill-color);\n",
              "    }\n",
              "    60% {\n",
              "      border-color: transparent;\n",
              "      border-right-color: var(--fill-color);\n",
              "    }\n",
              "    80% {\n",
              "      border-color: transparent;\n",
              "      border-right-color: var(--fill-color);\n",
              "      border-bottom-color: var(--fill-color);\n",
              "    }\n",
              "    90% {\n",
              "      border-color: transparent;\n",
              "      border-bottom-color: var(--fill-color);\n",
              "    }\n",
              "  }\n",
              "</style>\n",
              "\n",
              "  <script>\n",
              "    async function quickchart(key) {\n",
              "      const quickchartButtonEl =\n",
              "        document.querySelector('#' + key + ' button');\n",
              "      quickchartButtonEl.disabled = true;  // To prevent multiple clicks.\n",
              "      quickchartButtonEl.classList.add('colab-df-spinner');\n",
              "      try {\n",
              "        const charts = await google.colab.kernel.invokeFunction(\n",
              "            'suggestCharts', [key], {});\n",
              "      } catch (error) {\n",
              "        console.error('Error during call to suggestCharts:', error);\n",
              "      }\n",
              "      quickchartButtonEl.classList.remove('colab-df-spinner');\n",
              "      quickchartButtonEl.classList.add('colab-df-quickchart-complete');\n",
              "    }\n",
              "    (() => {\n",
              "      let quickchartButtonEl =\n",
              "        document.querySelector('#df-b92506dc-cc7f-40dd-84c6-d620f05c728f button');\n",
              "      quickchartButtonEl.style.display =\n",
              "        google.colab.kernel.accessAllowed ? 'block' : 'none';\n",
              "    })();\n",
              "  </script>\n",
              "</div>\n",
              "\n",
              "    </div>\n",
              "  </div>\n"
            ],
            "application/vnd.google.colaboratory.intrinsic+json": {
              "type": "dataframe",
              "variable_name": "titulos_tratados",
              "summary": "{\n  \"name\": \"titulos_tratados\",\n  \"rows\": 90000,\n  \"fields\": [\n    {\n      \"column\": \"titulo\",\n      \"properties\": {\n        \"dtype\": \"string\",\n        \"num_unique_values\": 84466,\n        \"samples\": [\n          \"brasil chega recorde medalhas meta cob dif\\u00edcil alcan\\u00e7ada\",\n          \"kristen wiig melissa mccarthy trailer\",\n          \"ningu\\u00e9m barriga aluguel praticidade tet\\u00e9 ribeiro\"\n        ],\n        \"semantic_type\": \"\",\n        \"description\": \"\"\n      }\n    }\n  ]\n}"
            }
          },
          "metadata": {},
          "execution_count": 25
        }
      ]
    },
    {
      "cell_type": "markdown",
      "source": [
        "## CBOW"
      ],
      "metadata": {
        "id": "nGXX8KtM4e5z"
      }
    },
    {
      "cell_type": "code",
      "source": [
        "from gensim.models import Word2Vec\n",
        "\n",
        "# sg - 0 -> cbow - 1 -> skipgram\n",
        "# window - quantidade de palavras antes e depois da palavra central\n",
        "# vector_size - tamanho do vetor a ser gerado\n",
        "# min_count - numero de vezes que uma palavra deve aparecer\n",
        "# alpha - taxa de aprendizagem da rede neural\n",
        "# min_alpha - mínimo de convergência da rede neural\n",
        "w2v_modelo = Word2Vec(sg=0,\n",
        "                      window=2,\n",
        "                      vector_size=300,\n",
        "                      min_count=5,\n",
        "                      alpha=0.03,\n",
        "                      min_alpha=0.007)"
      ],
      "metadata": {
        "id": "Ll-YyBe1nJqu"
      },
      "execution_count": 19,
      "outputs": []
    },
    {
      "cell_type": "code",
      "source": [
        "print(len(titulos_tratados))\n",
        "\n",
        "titulos_tratados = titulos_tratados.dropna().drop_duplicates()\n",
        "\n",
        "print(len(titulos_tratados))"
      ],
      "metadata": {
        "colab": {
          "base_uri": "https://localhost:8080/"
        },
        "id": "w4LE0H8BphKv",
        "outputId": "814933f0-092b-4087-96bf-fa079fecc6e5"
      },
      "execution_count": 26,
      "outputs": [
        {
          "output_type": "stream",
          "name": "stdout",
          "text": [
            "90000\n",
            "84466\n"
          ]
        }
      ]
    },
    {
      "cell_type": "code",
      "source": [
        "lista_lista_tokens = [titulo.split(\" \") for titulo in titulos_tratados.titulo]"
      ],
      "metadata": {
        "id": "Ls7wAQWtpK1t"
      },
      "execution_count": 27,
      "outputs": []
    },
    {
      "cell_type": "code",
      "source": [
        "w2v_modelo.build_vocab(lista_lista_tokens)"
      ],
      "metadata": {
        "id": "tx2qoLzrp0mf"
      },
      "execution_count": 28,
      "outputs": []
    },
    {
      "cell_type": "markdown",
      "source": [
        "## Treinando o modelo"
      ],
      "metadata": {
        "id": "4gswchA_qG1B"
      }
    },
    {
      "cell_type": "code",
      "source": [
        "# lista todas as propriedas e métodos\n",
        "dir(w2v_modelo)"
      ],
      "metadata": {
        "colab": {
          "base_uri": "https://localhost:8080/"
        },
        "id": "4k-BKx0OqJAT",
        "outputId": "dc03d288-cda3-4a4b-8a88-5cc799b63c15"
      },
      "execution_count": 29,
      "outputs": [
        {
          "output_type": "execute_result",
          "data": {
            "text/plain": [
              "['__class__',\n",
              " '__delattr__',\n",
              " '__dict__',\n",
              " '__dir__',\n",
              " '__doc__',\n",
              " '__eq__',\n",
              " '__format__',\n",
              " '__ge__',\n",
              " '__getattribute__',\n",
              " '__gt__',\n",
              " '__hash__',\n",
              " '__init__',\n",
              " '__init_subclass__',\n",
              " '__le__',\n",
              " '__lt__',\n",
              " '__module__',\n",
              " '__ne__',\n",
              " '__new__',\n",
              " '__reduce__',\n",
              " '__reduce_ex__',\n",
              " '__repr__',\n",
              " '__setattr__',\n",
              " '__sizeof__',\n",
              " '__str__',\n",
              " '__subclasshook__',\n",
              " '__weakref__',\n",
              " '_adapt_by_suffix',\n",
              " '_check_corpus_sanity',\n",
              " '_check_training_sanity',\n",
              " '_clear_post_train',\n",
              " '_do_train_epoch',\n",
              " '_do_train_job',\n",
              " '_get_next_alpha',\n",
              " '_get_thread_working_mem',\n",
              " '_job_producer',\n",
              " '_load_specials',\n",
              " '_log_epoch_end',\n",
              " '_log_epoch_progress',\n",
              " '_log_progress',\n",
              " '_log_train_end',\n",
              " '_raw_word_count',\n",
              " '_save_specials',\n",
              " '_scan_vocab',\n",
              " '_smart_save',\n",
              " '_train_epoch',\n",
              " '_train_epoch_corpusfile',\n",
              " '_worker_loop',\n",
              " '_worker_loop_corpusfile',\n",
              " 'add_lifecycle_event',\n",
              " 'add_null_word',\n",
              " 'alpha',\n",
              " 'batch_words',\n",
              " 'build_vocab',\n",
              " 'build_vocab_from_freq',\n",
              " 'cbow_mean',\n",
              " 'comment',\n",
              " 'compute_loss',\n",
              " 'corpus_count',\n",
              " 'corpus_total_words',\n",
              " 'create_binary_tree',\n",
              " 'cum_table',\n",
              " 'effective_min_count',\n",
              " 'epochs',\n",
              " 'estimate_memory',\n",
              " 'get_latest_training_loss',\n",
              " 'hashfxn',\n",
              " 'hs',\n",
              " 'init_sims',\n",
              " 'init_weights',\n",
              " 'layer1_size',\n",
              " 'lifecycle_events',\n",
              " 'load',\n",
              " 'make_cum_table',\n",
              " 'max_final_vocab',\n",
              " 'max_vocab_size',\n",
              " 'min_alpha',\n",
              " 'min_alpha_yet_reached',\n",
              " 'min_count',\n",
              " 'negative',\n",
              " 'ns_exponent',\n",
              " 'null_word',\n",
              " 'predict_output_word',\n",
              " 'prepare_vocab',\n",
              " 'prepare_weights',\n",
              " 'random',\n",
              " 'raw_vocab',\n",
              " 'reset_from',\n",
              " 'running_training_loss',\n",
              " 'sample',\n",
              " 'save',\n",
              " 'scan_vocab',\n",
              " 'score',\n",
              " 'seed',\n",
              " 'seeded_vector',\n",
              " 'sg',\n",
              " 'shrink_windows',\n",
              " 'sorted_vocab',\n",
              " 'syn1neg',\n",
              " 'total_train_time',\n",
              " 'train',\n",
              " 'train_count',\n",
              " 'update_weights',\n",
              " 'vector_size',\n",
              " 'window',\n",
              " 'workers',\n",
              " 'wv']"
            ]
          },
          "metadata": {},
          "execution_count": 29
        }
      ]
    },
    {
      "cell_type": "code",
      "source": [
        "# quantidade de corpus textual\n",
        "w2v_modelo.corpus_count"
      ],
      "metadata": {
        "colab": {
          "base_uri": "https://localhost:8080/"
        },
        "id": "RlMdu9FvqWS1",
        "outputId": "060b4f7d-4bcb-41db-fdfb-a91ca0bee389"
      },
      "execution_count": 30,
      "outputs": [
        {
          "output_type": "execute_result",
          "data": {
            "text/plain": [
              "84466"
            ]
          },
          "metadata": {},
          "execution_count": 30
        }
      ]
    },
    {
      "cell_type": "code",
      "source": [
        "from gensim.models.callbacks import CallbackAny2Vec\n",
        "from gensim.models import Word2Vec\n",
        "\n",
        "# iniciando a chamada callback\n",
        "class callback(CallbackAny2Vec):\n",
        "  def __init__(self):\n",
        "    self.epoch = 0\n",
        "\n",
        "  def on_epoch_end(self, model):\n",
        "    loss = model.get_latest_training_loss()\n",
        "    if self.epoch == 0:\n",
        "      print('Loss após a época {}:{}'.format(self.epoch, loss))\n",
        "    else:\n",
        "      print('Loss após a época {}:{}'.format(self.epoch, loss - self.loss_previus_step))\n",
        "    self.epoch += 1\n",
        "    self.loss_previus_step = loss"
      ],
      "metadata": {
        "id": "OMc1KCg_q0gi"
      },
      "execution_count": 31,
      "outputs": []
    },
    {
      "cell_type": "code",
      "source": [
        "w2v_modelo.train(lista_lista_tokens,\n",
        "                 total_examples=w2v_modelo.corpus_count,\n",
        "                 epochs=30,\n",
        "                 compute_loss=True,\n",
        "                 callbacks=[callback()])"
      ],
      "metadata": {
        "colab": {
          "base_uri": "https://localhost:8080/"
        },
        "id": "cqJYa1umqZfD",
        "outputId": "15e41844-00f2-4f5c-e8f4-4132f2a21dda"
      },
      "execution_count": 33,
      "outputs": [
        {
          "output_type": "stream",
          "name": "stdout",
          "text": [
            "Loss após a época 0:630808.8125\n",
            "Loss após a época 1:488331.4375\n",
            "Loss após a época 2:385408.375\n",
            "Loss após a época 3:330840.625\n",
            "Loss após a época 4:324775.0\n",
            "Loss após a época 5:296352.25\n",
            "Loss após a época 6:292798.25\n",
            "Loss após a época 7:306675.5\n",
            "Loss após a época 8:260607.75\n",
            "Loss após a época 9:258027.75\n",
            "Loss após a época 10:231077.5\n",
            "Loss após a época 11:220652.0\n",
            "Loss após a época 12:235768.75\n",
            "Loss após a época 13:208946.5\n",
            "Loss após a época 14:171484.5\n",
            "Loss após a época 15:181726.5\n",
            "Loss após a época 16:165515.5\n",
            "Loss após a época 17:150986.5\n",
            "Loss após a época 18:152752.5\n",
            "Loss após a época 19:139693.5\n",
            "Loss após a época 20:119298.0\n",
            "Loss após a época 21:115141.0\n",
            "Loss após a época 22:133518.0\n",
            "Loss após a época 23:123292.5\n",
            "Loss após a época 24:112390.5\n",
            "Loss após a época 25:109408.5\n",
            "Loss após a época 26:119272.0\n",
            "Loss após a época 27:110278.5\n",
            "Loss após a época 28:107891.5\n",
            "Loss após a época 29:111863.5\n"
          ]
        },
        {
          "output_type": "execute_result",
          "data": {
            "text/plain": [
              "(14584049, 16207260)"
            ]
          },
          "metadata": {},
          "execution_count": 33
        }
      ]
    },
    {
      "cell_type": "code",
      "source": [
        "w2v_modelo.wv.most_similar('google')"
      ],
      "metadata": {
        "colab": {
          "base_uri": "https://localhost:8080/"
        },
        "id": "eIPLysE-38Xb",
        "outputId": "a5637bb1-984f-4eea-d09b-231bc17e279b"
      },
      "execution_count": 34,
      "outputs": [
        {
          "output_type": "execute_result",
          "data": {
            "text/plain": [
              "[('apple', 0.5859817266464233),\n",
              " ('facebook', 0.535375714302063),\n",
              " ('airbnb', 0.49373987317085266),\n",
              " ('waze', 0.4825575351715088),\n",
              " ('uber', 0.47694164514541626),\n",
              " ('amazon', 0.4559515416622162),\n",
              " ('fbi', 0.43990829586982727),\n",
              " ('software', 0.4390987455844879),\n",
              " ('samsung', 0.4358971416950226),\n",
              " ('tesla', 0.4357891082763672)]"
            ]
          },
          "metadata": {},
          "execution_count": 34
        }
      ]
    },
    {
      "cell_type": "markdown",
      "source": [
        "## Skip Gram"
      ],
      "metadata": {
        "id": "OgGWWF_F4ZST"
      }
    },
    {
      "cell_type": "code",
      "source": [
        "# o skip gram tabralha melhor com mais dados, então nesse caso seria melhor aumentar o valor do window de 2 para 5\n",
        "w2v_modelo_sg = Word2Vec(sg=1,\n",
        "                      window=5,\n",
        "                      vector_size=300,\n",
        "                      min_count=5,\n",
        "                      alpha=0.03,\n",
        "                      min_alpha=0.007)\n",
        "\n",
        "w2v_modelo_sg.build_vocab(lista_lista_tokens)\n",
        "\n",
        "w2v_modelo_sg.train(lista_lista_tokens,\n",
        "                 total_examples=w2v_modelo.corpus_count,\n",
        "                 epochs=30,\n",
        "                 compute_loss=True,\n",
        "                 callbacks=[callback()])"
      ],
      "metadata": {
        "colab": {
          "base_uri": "https://localhost:8080/"
        },
        "id": "3zXRg6Hc4YZD",
        "outputId": "0e941274-90a0-47de-a5a3-8aa0411433ec"
      },
      "execution_count": 36,
      "outputs": [
        {
          "output_type": "stream",
          "name": "stdout",
          "text": [
            "Loss após a época 0:1881584.0\n",
            "Loss após a época 1:1441888.75\n",
            "Loss após a época 2:1185785.25\n",
            "Loss após a época 3:1020172.5\n",
            "Loss após a época 4:1045340.0\n",
            "Loss após a época 5:1063756.5\n",
            "Loss após a época 6:996801.0\n",
            "Loss após a época 7:876929.0\n",
            "Loss após a época 8:807567.0\n",
            "Loss após a época 9:783224.0\n",
            "Loss após a época 10:850364.0\n",
            "Loss após a época 11:785381.0\n",
            "Loss após a época 12:683849.0\n",
            "Loss após a época 13:706468.0\n",
            "Loss após a época 14:687924.0\n",
            "Loss após a época 15:709081.0\n",
            "Loss após a época 16:622009.0\n",
            "Loss após a época 17:695248.0\n",
            "Loss após a época 18:475296.0\n",
            "Loss após a época 19:488956.0\n",
            "Loss após a época 20:455742.0\n",
            "Loss após a época 21:474158.0\n",
            "Loss após a época 22:438262.0\n",
            "Loss após a época 23:431332.0\n",
            "Loss após a época 24:446956.0\n",
            "Loss após a época 25:418222.0\n",
            "Loss após a época 26:432944.0\n",
            "Loss após a época 27:402192.0\n",
            "Loss após a época 28:419874.0\n",
            "Loss após a época 29:391202.0\n"
          ]
        },
        {
          "output_type": "execute_result",
          "data": {
            "text/plain": [
              "(14584473, 16207260)"
            ]
          },
          "metadata": {},
          "execution_count": 36
        }
      ]
    },
    {
      "cell_type": "code",
      "source": [
        "w2v_modelo_sg.wv.most_similar('google')"
      ],
      "metadata": {
        "colab": {
          "base_uri": "https://localhost:8080/"
        },
        "id": "Zi2kOhri5Vzy",
        "outputId": "5f7cd5e2-2346-4b5c-b60d-dd444a98a0e9"
      },
      "execution_count": 37,
      "outputs": [
        {
          "output_type": "execute_result",
          "data": {
            "text/plain": [
              "[('android', 0.385531485080719),\n",
              " ('reguladores', 0.3840128481388092),\n",
              " ('facebook', 0.3777120113372803),\n",
              " ('apple', 0.3689356744289398),\n",
              " ('waze', 0.3646523058414459),\n",
              " ('buffett', 0.35657042264938354),\n",
              " ('anúncios', 0.349619597196579),\n",
              " ('concorda', 0.3482460081577301),\n",
              " ('patentes', 0.34747374057769775),\n",
              " ('anunciantes', 0.3468451201915741)]"
            ]
          },
          "metadata": {},
          "execution_count": 37
        }
      ]
    },
    {
      "cell_type": "markdown",
      "source": [
        "# Exportando modelos"
      ],
      "metadata": {
        "id": "Z510qw8U6cx_"
      }
    },
    {
      "cell_type": "code",
      "source": [
        "w2v_modelo.wv.save_word2vec_format('/content/drive/MyDrive/Colab Notebooks/Word2Vec/modelo_cbow.txt', binary=False)\n",
        "w2v_modelo_sg.wv.save_word2vec_format('/content/drive/MyDrive/Colab Notebooks/Word2Vec/modelo_sg.txt', binary=False)"
      ],
      "metadata": {
        "id": "MIM1WDbb6fa5"
      },
      "execution_count": 41,
      "outputs": []
    },
    {
      "cell_type": "markdown",
      "source": [
        "# Criando o classificador com o nosso modelo"
      ],
      "metadata": {
        "id": "SLONfN3i8BBP"
      }
    },
    {
      "cell_type": "code",
      "source": [
        "import numpy as np\n",
        "\n",
        "def combinacao_de_vetores_por_soma(palavras_numeros, modelo):\n",
        "  vetor_resultante = np.zeros(300)\n",
        "  for pn in palavras_numeros:\n",
        "    try:\n",
        "      vetor_resultante =+ modelo.wv.get_vector(pn)\n",
        "    except KeyError:\n",
        "      pass\n",
        "  return vetor_resultante"
      ],
      "metadata": {
        "id": "ypRUHeiS8AS1"
      },
      "execution_count": 60,
      "outputs": []
    },
    {
      "cell_type": "code",
      "source": [
        "def tokenizador(texto):\n",
        "  tokens_validos = []\n",
        "  doc = nlp(texto)\n",
        "\n",
        "  for token in doc:\n",
        "    e_valido = not token.is_stop and token.is_alpha\n",
        "    if e_valido:\n",
        "      tokens_validos.append(token.text.lower())\n",
        "\n",
        "  return tokens_validos"
      ],
      "metadata": {
        "id": "eOaT--0D9Awv"
      },
      "execution_count": 54,
      "outputs": []
    },
    {
      "cell_type": "code",
      "source": [
        "def matriz_vetores(textos, modelo):\n",
        "  x = len(textos)\n",
        "  y = 300\n",
        "  matriz = np.zeros((x, y))\n",
        "\n",
        "  for i in range(x):\n",
        "    palavras = tokenizador(textos.iloc[i])\n",
        "    matriz[i] = combinacao_de_vetores_por_soma(palavras, modelo)\n",
        "  return matriz"
      ],
      "metadata": {
        "id": "YffOwLnm8kdt"
      },
      "execution_count": 58,
      "outputs": []
    },
    {
      "cell_type": "code",
      "source": [
        "matriz_vetores_treino_cbow = matriz_vetores(artigo_treino.title, w2v_modelo)\n",
        "matriz_vetores_teste_cbow = matriz_vetores(artigo_teste.title, w2v_modelo)\n",
        "\n",
        "matriz_vetores_treino_sg = matriz_vetores(artigo_treino.title, w2v_modelo_sg)\n",
        "matriz_vetores_teste_sg = matriz_vetores(artigo_teste.title, w2v_modelo_sg)"
      ],
      "metadata": {
        "id": "krfTgaEm9j26"
      },
      "execution_count": 61,
      "outputs": []
    },
    {
      "cell_type": "code",
      "source": [
        "print(matriz_vetores_treino_cbow.shape)"
      ],
      "metadata": {
        "colab": {
          "base_uri": "https://localhost:8080/"
        },
        "id": "H3ZBKGqR-Bua",
        "outputId": "7472b27c-327a-4ed8-8ec0-74bffb22980b"
      },
      "execution_count": 62,
      "outputs": [
        {
          "output_type": "stream",
          "name": "stdout",
          "text": [
            "(90000, 300)\n"
          ]
        }
      ]
    },
    {
      "cell_type": "code",
      "source": [
        "from sklearn.linear_model import LogisticRegression\n",
        "from sklearn.metrics import classification_report\n",
        "\n",
        "def classificador(x_treino, y_treino, x_teste, y_teste):\n",
        "  RL = LogisticRegression(max_iter=800)\n",
        "  RL.fit(x_treino, y_treino)\n",
        "  categorias = RL.predict(x_teste)\n",
        "  resultados = classification_report(y_teste, categorias)\n",
        "  print(resultados)\n",
        "  return RL"
      ],
      "metadata": {
        "id": "WBkC78y2NKGe"
      },
      "execution_count": 64,
      "outputs": []
    },
    {
      "cell_type": "code",
      "source": [
        "RL_cbow = classificador(matriz_vetores_treino_cbow,\n",
        "                        artigo_treino.category,\n",
        "                        matriz_vetores_teste_cbow,\n",
        "                        artigo_teste.category)"
      ],
      "metadata": {
        "colab": {
          "base_uri": "https://localhost:8080/"
        },
        "id": "BMQLUaNMN2jy",
        "outputId": "c99fda62-b214-4bd0-d2ae-d96e6160d8be"
      },
      "execution_count": 65,
      "outputs": [
        {
          "output_type": "stream",
          "name": "stdout",
          "text": [
            "              precision    recall  f1-score   support\n",
            "\n",
            "     colunas       0.59      0.39      0.47      6103\n",
            "   cotidiano       0.34      0.56      0.43      1698\n",
            "     esporte       0.69      0.60      0.64      4663\n",
            "   ilustrada       0.04      0.56      0.07       131\n",
            "     mercado       0.67      0.57      0.62      5867\n",
            "       mundo       0.45      0.60      0.51      2051\n",
            "\n",
            "    accuracy                           0.53     20513\n",
            "   macro avg       0.46      0.55      0.46     20513\n",
            "weighted avg       0.60      0.53      0.55     20513\n",
            "\n"
          ]
        }
      ]
    },
    {
      "cell_type": "code",
      "source": [
        "RL_sg = classificador(matriz_vetores_treino_sg,\n",
        "                        artigo_treino.category,\n",
        "                        matriz_vetores_teste_sg,\n",
        "                        artigo_teste.category)"
      ],
      "metadata": {
        "colab": {
          "base_uri": "https://localhost:8080/"
        },
        "id": "jW-rRGboOO0t",
        "outputId": "423eae60-e544-4457-e171-d803c108ba41"
      },
      "execution_count": 66,
      "outputs": [
        {
          "output_type": "stream",
          "name": "stdout",
          "text": [
            "              precision    recall  f1-score   support\n",
            "\n",
            "     colunas       0.63      0.36      0.46      6103\n",
            "   cotidiano       0.34      0.58      0.43      1698\n",
            "     esporte       0.74      0.59      0.66      4663\n",
            "   ilustrada       0.04      0.62      0.08       131\n",
            "     mercado       0.67      0.61      0.64      5867\n",
            "       mundo       0.42      0.64      0.51      2051\n",
            "\n",
            "    accuracy                           0.53     20513\n",
            "   macro avg       0.47      0.57      0.46     20513\n",
            "weighted avg       0.62      0.53      0.56     20513\n",
            "\n"
          ]
        }
      ]
    }
  ]
}